{
 "cells": [
  {
   "cell_type": "markdown",
   "metadata": {
    "toc": true
   },
   "source": [
    "<h1>Index<span class=\"tocSkip\"></span></h1>\n",
    "<div class=\"toc\"><ul class=\"toc-item\"><li><span><a href=\"#Optimization-params\" data-toc-modified-id=\"Optimization-params-1\"><span class=\"toc-item-num\">1&nbsp;&nbsp;</span>Optimization params</a></span></li><li><span><a href=\"#Random-Time-Robust-Forest\" data-toc-modified-id=\"Random-Time-Robust-Forest-2\"><span class=\"toc-item-num\">2&nbsp;&nbsp;</span>Random Time Robust Forest</a></span><ul class=\"toc-item\"><li><span><a href=\"#Few-random-segments\" data-toc-modified-id=\"Few-random-segments-2.1\"><span class=\"toc-item-num\">2.1&nbsp;&nbsp;</span>Few random segments</a></span></li><li><span><a href=\"#Many-random-segments\" data-toc-modified-id=\"Many-random-segments-2.2\"><span class=\"toc-item-num\">2.2&nbsp;&nbsp;</span>Many random segments</a></span></li><li><span><a href=\"#A-couple-of-engineered-segments\" data-toc-modified-id=\"A-couple-of-engineered-segments-2.3\"><span class=\"toc-item-num\">2.3&nbsp;&nbsp;</span>A couple of engineered segments</a></span></li></ul></li><li><span><a href=\"#Benchmark\" data-toc-modified-id=\"Benchmark-3\"><span class=\"toc-item-num\">3&nbsp;&nbsp;</span>Benchmark</a></span></li><li><span><a href=\"#Time-Robust-Forest\" data-toc-modified-id=\"Time-Robust-Forest-4\"><span class=\"toc-item-num\">4&nbsp;&nbsp;</span>Time Robust Forest</a></span></li><li><span><a href=\"#Simplified-benchmark\" data-toc-modified-id=\"Simplified-benchmark-5\"><span class=\"toc-item-num\">5&nbsp;&nbsp;</span>Simplified benchmark</a></span></li><li><span><a href=\"#Plots\" data-toc-modified-id=\"Plots-6\"><span class=\"toc-item-num\">6&nbsp;&nbsp;</span>Plots</a></span><ul class=\"toc-item\"><li><span><a href=\"#Domain-Classifier\" data-toc-modified-id=\"Domain-Classifier-6.1\"><span class=\"toc-item-num\">6.1&nbsp;&nbsp;</span>Domain Classifier</a></span></li></ul></li></ul></div>"
   ]
  },
  {
   "cell_type": "markdown",
   "metadata": {},
   "source": [
    "# GE News - Time Forest Vs Random Forest"
   ]
  },
  {
   "cell_type": "code",
   "execution_count": 2,
   "metadata": {
    "ExecuteTime": {
     "end_time": "2022-06-22T12:05:21.294204Z",
     "start_time": "2022-06-22T12:05:19.151659Z"
    }
   },
   "outputs": [],
   "source": [
    "import pandas as pd\n",
    "import numpy as np\n",
    "import math\n",
    "import matplotlib.pyplot as plt\n",
    "import pdb\n",
    "import warnings\n",
    "import seaborn as sns\n",
    "\n",
    "from sklearn import metrics\n",
    "from time import time\n",
    "from sklearn.ensemble import RandomForestClassifier\n",
    "from sklearn.preprocessing import MinMaxScaler\n",
    "from sklearn.model_selection import StratifiedKFold\n",
    "from sklearn.model_selection import train_test_split\n",
    "from sklearn.metrics import mean_squared_error, mean_absolute_error\n",
    "from sklearn.linear_model import LogisticRegression, LinearRegression\n",
    "from sklearn.metrics import roc_auc_score\n",
    "from sklearn.metrics import log_loss, f1_score, accuracy_score\n",
    "from sklearn.naive_bayes import MultinomialNB\n",
    "from sklearn.model_selection import train_test_split\n",
    "from sklearn import metrics\n",
    "from sklearn.feature_extraction import stop_words\n",
    "from sklearn.feature_extraction.text import TfidfVectorizer\n",
    "from time_robust_forest.models import TimeForestClassifier\n",
    "from time_robust_forest.functions import check_categoricals_match, check_numerical_match\n",
    "from time_robust_forest.hyper_opt import env_wise_hyper_opt\n",
    "from aux_functions import *\n",
    "\n",
    "warnings.filterwarnings('ignore')"
   ]
  },
  {
   "cell_type": "code",
   "execution_count": 3,
   "metadata": {
    "ExecuteTime": {
     "end_time": "2022-06-22T12:05:21.299641Z",
     "start_time": "2022-06-22T12:05:21.296371Z"
    }
   },
   "outputs": [],
   "source": [
    "def set_style():\n",
    "    plt.style.use(['seaborn-white', 'seaborn-paper'])\n",
    "    plt.rcParams['figure.figsize'] = (12, 4)"
   ]
  },
  {
   "cell_type": "code",
   "execution_count": 4,
   "metadata": {
    "ExecuteTime": {
     "end_time": "2022-06-22T12:05:21.304967Z",
     "start_time": "2022-06-22T12:05:21.302188Z"
    }
   },
   "outputs": [],
   "source": [
    "set_style()"
   ]
  },
  {
   "cell_type": "code",
   "execution_count": 5,
   "metadata": {
    "ExecuteTime": {
     "end_time": "2022-06-22T12:05:21.308813Z",
     "start_time": "2022-06-22T12:05:21.307007Z"
    }
   },
   "outputs": [],
   "source": [
    "PREFIX = \"ge_news\""
   ]
  },
  {
   "cell_type": "code",
   "execution_count": 6,
   "metadata": {
    "ExecuteTime": {
     "end_time": "2022-06-22T12:05:21.319475Z",
     "start_time": "2022-06-22T12:05:21.310767Z"
    }
   },
   "outputs": [],
   "source": [
    "STOP_WORDS = ['de', 'a', 'o', 'que', 'e', 'do', 'da', 'em', 'um', 'para', 'é', 'com', 'não', 'uma', 'os', 'no', 'se', 'na', 'por', 'mais', 'as', 'dos', 'como', 'mas', 'foi', 'ao', 'ele', 'das', 'tem', 'à', 'seu', 'sua', 'ou', 'ser', 'quando', 'muito', 'há', 'nos', 'já', 'está', 'eu', 'também', 'só', 'pelo', 'pela', 'até', 'isso', 'ela', 'entre', 'era', 'depois', 'sem', 'mesmo', 'aos', 'ter', 'seus', 'quem', 'nas', 'me', 'esse', 'eles', 'estão', 'você', 'tinha', 'foram', 'essa', 'num', 'nem', 'suas', 'meu', 'às', 'minha', 'têm', 'numa', 'pelos', 'elas', 'havia', 'seja', 'qual', 'será', 'nós', 'tenho', 'lhe', 'deles', 'essas', 'esses', 'pelas', 'este', 'fosse', 'dele', 'tu', 'te', 'vocês', 'vos', 'lhes', 'meus', 'minhas', 'teu', 'tua', 'teus', 'tuas', 'nosso', 'nossa', 'nossos', 'nossas', 'dela', 'delas', 'esta', 'estes', 'estas', 'aquele', 'aquela', 'aqueles', 'aquelas', 'isto', 'aquilo', 'estou', 'está', 'estamos', 'estão', 'estive', 'esteve', 'estivemos', 'estiveram', 'estava', 'estávamos', 'estavam', 'estivera', 'estivéramos', 'esteja', 'estejamos', 'estejam', 'estivesse', 'estivéssemos', 'estivessem', 'estiver', 'estivermos', 'estiverem', 'hei', 'há', 'havemos', 'hão', 'houve', 'houvemos', 'houveram', 'houvera', 'houvéramos', 'haja', 'hajamos', 'hajam', 'houvesse', 'houvéssemos', 'houvessem', 'houver', 'houvermos', 'houverem', 'houverei', 'houverá', 'houveremos', 'houverão', 'houveria', 'houveríamos', 'houveriam', 'sou', 'somos', 'são', 'era', 'éramos', 'eram', 'fui', 'foi', 'fomos', 'foram', 'fora', 'fôramos', 'seja', 'sejamos', 'sejam', 'fosse', 'fôssemos', 'fossem', 'for', 'formos', 'forem', 'serei', 'será', 'seremos', 'serão', 'seria', 'seríamos', 'seriam', 'tenho', 'tem', 'temos', 'tém', 'tinha', 'tínhamos', 'tinham', 'tive', 'teve', 'tivemos', 'tiveram', 'tivera', 'tivéramos', 'tenha', 'tenhamos', 'tenham', 'tivesse', 'tivéssemos', 'tivessem', 'tiver', 'tivermos', 'tiverem', 'terei', 'terá', 'teremos', 'terão', 'teria', 'teríamos', 'teriam']\n",
    "CLUB_WORDS = [\"verdão\", \"tricolor\", \"fla\", \"timão\", \"rubro\", \n",
    "              \"negro\", \"flamengo\", \"paulo\", \"palmeirense\", \"paulista\", \n",
    "              \"inter\", \"colorado\", \"internacional\", \"colorados\", \"colorada\"]\n",
    "STOP_WORDS += CLUB_WORDS\n",
    "MAX_VOCABULARY = 300#300\n",
    "positive_case = \"flamengo\""
   ]
  },
  {
   "cell_type": "code",
   "execution_count": 7,
   "metadata": {
    "ExecuteTime": {
     "end_time": "2022-06-22T12:05:24.752578Z",
     "start_time": "2022-06-22T12:05:21.321617Z"
    }
   },
   "outputs": [],
   "source": [
    "data = pd.read_csv(\"~/Documents/datasets/ge_news/ge_news.csv\", index_col=False)"
   ]
  },
  {
   "cell_type": "code",
   "execution_count": 8,
   "metadata": {
    "ExecuteTime": {
     "end_time": "2022-06-22T12:05:24.844426Z",
     "start_time": "2022-06-22T12:05:24.840553Z"
    }
   },
   "outputs": [
    {
     "data": {
      "text/plain": [
       "(171764, 6)"
      ]
     },
     "execution_count": 8,
     "metadata": {},
     "output_type": "execute_result"
    }
   ],
   "source": [
    "data.shape"
   ]
  },
  {
   "cell_type": "code",
   "execution_count": 9,
   "metadata": {
    "ExecuteTime": {
     "end_time": "2022-06-22T12:05:24.849134Z",
     "start_time": "2022-06-22T12:05:24.847087Z"
    }
   },
   "outputs": [],
   "source": [
    "data = data.sample(frac=1.0)"
   ]
  },
  {
   "cell_type": "code",
   "execution_count": 10,
   "metadata": {
    "ExecuteTime": {
     "end_time": "2022-06-22T12:05:24.862328Z",
     "start_time": "2022-06-22T12:05:24.850973Z"
    }
   },
   "outputs": [
    {
     "data": {
      "text/html": [
       "<div>\n",
       "<style scoped>\n",
       "    .dataframe tbody tr th:only-of-type {\n",
       "        vertical-align: middle;\n",
       "    }\n",
       "\n",
       "    .dataframe tbody tr th {\n",
       "        vertical-align: top;\n",
       "    }\n",
       "\n",
       "    .dataframe thead th {\n",
       "        text-align: right;\n",
       "    }\n",
       "</style>\n",
       "<table border=\"1\" class=\"dataframe\">\n",
       "  <thead>\n",
       "    <tr style=\"text-align: right;\">\n",
       "      <th></th>\n",
       "      <th>date</th>\n",
       "      <th>time</th>\n",
       "      <th>title</th>\n",
       "      <th>text</th>\n",
       "      <th>link</th>\n",
       "      <th>club</th>\n",
       "    </tr>\n",
       "  </thead>\n",
       "  <tbody>\n",
       "    <tr>\n",
       "      <th>381</th>\n",
       "      <td>24/07/2019</td>\n",
       "      <td>15h37</td>\n",
       "      <td>Lista GE: oito posts e campanhas de clubes que...</td>\n",
       "      <td>Você possivelmente deve ter visto que o Goiás...</td>\n",
       "      <td>https://globoesporte.globo.com/futebol/noticia...</td>\n",
       "      <td>athletico-pr</td>\n",
       "    </tr>\n",
       "    <tr>\n",
       "      <th>21037</th>\n",
       "      <td>01/06/2017</td>\n",
       "      <td>20h00</td>\n",
       "      <td>Estreia no vôlei, Série B, amistoso da França ...</td>\n",
       "      <td>Nesta sexta-feira, o SporTV terá muita ação no...</td>\n",
       "      <td>http://sportv.globo.com/site/programas/sportv-...</td>\n",
       "      <td>atletico-mg</td>\n",
       "    </tr>\n",
       "    <tr>\n",
       "      <th>58565</th>\n",
       "      <td>05/12/2017</td>\n",
       "      <td>10h30</td>\n",
       "      <td>Presidente do Corinthians descarta contratação...</td>\n",
       "      <td>Mais tarde, o clube anunciou a contratação de...</td>\n",
       "      <td>https://globoesporte.globo.com/futebol/times/c...</td>\n",
       "      <td>corinthians</td>\n",
       "    </tr>\n",
       "    <tr>\n",
       "      <th>36539</th>\n",
       "      <td>21/01/2020</td>\n",
       "      <td>17h52</td>\n",
       "      <td>Atuações do Botafogo: Caio Alexandre chama a r...</td>\n",
       "      <td>O volante leva a maior nota no time alvinegro...</td>\n",
       "      <td>https://globoesporte.globo.com/futebol/times/b...</td>\n",
       "      <td>botafogo</td>\n",
       "    </tr>\n",
       "    <tr>\n",
       "      <th>61652</th>\n",
       "      <td>03/07/2021</td>\n",
       "      <td>22h04</td>\n",
       "      <td>Presidente do Coritiba, Renato Follador morre ...</td>\n",
       "      <td>Morreu na noite deste sábado o presidente do ...</td>\n",
       "      <td>https://ge.globo.com/pr/futebol/times/coritiba...</td>\n",
       "      <td>coritiba</td>\n",
       "    </tr>\n",
       "  </tbody>\n",
       "</table>\n",
       "</div>"
      ],
      "text/plain": [
       "             date   time                                              title  \\\n",
       "381    24/07/2019  15h37  Lista GE: oito posts e campanhas de clubes que...   \n",
       "21037  01/06/2017  20h00  Estreia no vôlei, Série B, amistoso da França ...   \n",
       "58565  05/12/2017  10h30  Presidente do Corinthians descarta contratação...   \n",
       "36539  21/01/2020  17h52  Atuações do Botafogo: Caio Alexandre chama a r...   \n",
       "61652  03/07/2021  22h04  Presidente do Coritiba, Renato Follador morre ...   \n",
       "\n",
       "                                                    text  \\\n",
       "381     Você possivelmente deve ter visto que o Goiás...   \n",
       "21037  Nesta sexta-feira, o SporTV terá muita ação no...   \n",
       "58565   Mais tarde, o clube anunciou a contratação de...   \n",
       "36539   O volante leva a maior nota no time alvinegro...   \n",
       "61652   Morreu na noite deste sábado o presidente do ...   \n",
       "\n",
       "                                                    link          club  \n",
       "381    https://globoesporte.globo.com/futebol/noticia...  athletico-pr  \n",
       "21037  http://sportv.globo.com/site/programas/sportv-...   atletico-mg  \n",
       "58565  https://globoesporte.globo.com/futebol/times/c...   corinthians  \n",
       "36539  https://globoesporte.globo.com/futebol/times/b...      botafogo  \n",
       "61652  https://ge.globo.com/pr/futebol/times/coritiba...      coritiba  "
      ]
     },
     "execution_count": 10,
     "metadata": {},
     "output_type": "execute_result"
    }
   ],
   "source": [
    "data.tail()"
   ]
  },
  {
   "cell_type": "code",
   "execution_count": 11,
   "metadata": {
    "ExecuteTime": {
     "end_time": "2022-06-22T12:05:24.893976Z",
     "start_time": "2022-06-22T12:05:24.863733Z"
    }
   },
   "outputs": [
    {
     "data": {
      "text/plain": [
       "date     0\n",
       "time     0\n",
       "title    0\n",
       "text     0\n",
       "link     0\n",
       "club     0\n",
       "dtype: int64"
      ]
     },
     "execution_count": 11,
     "metadata": {},
     "output_type": "execute_result"
    }
   ],
   "source": [
    "data.isna().sum()"
   ]
  },
  {
   "cell_type": "code",
   "execution_count": 12,
   "metadata": {
    "ExecuteTime": {
     "end_time": "2022-06-22T12:05:24.897655Z",
     "start_time": "2022-06-22T12:05:24.895460Z"
    }
   },
   "outputs": [],
   "source": [
    "#data = data.sample(frac=0.2)\n",
    "data.reset_index(drop=True, inplace=True)"
   ]
  },
  {
   "cell_type": "code",
   "execution_count": 13,
   "metadata": {
    "ExecuteTime": {
     "end_time": "2022-06-22T12:05:24.906392Z",
     "start_time": "2022-06-22T12:05:24.899495Z"
    }
   },
   "outputs": [],
   "source": [
    "def create_different_time_slices(data, time_col=\"date\", aggregation=\"weekly\", n_months=None):\n",
    "    if aggregation == \"daily\": return data[time_col].dt.date\n",
    "    if aggregation == \"weekly\": return data[time_col].dt.week\n",
    "    if aggregation == \"monthly\": return data[time_col].apply(lambda x: x.strftime(\"%Y-%m\"))\n",
    "    if aggregation == \"semester\": return False\n",
    "\n",
    "\n",
    "def exclude_periods_without_positive_case(data, positive_case, period_column, threshold=20):\n",
    "    df = data.groupby(period_column)[\"club\"].apply(lambda x: np.sum(x == positive_case))\n",
    "    df = df[df > threshold]\n",
    "    return data[data[period_column].isin(df.index)]\n",
    "    \n",
    "def clean_club_name_from_article(data):\n",
    "    data[\"text\"] = data.apply(lambda x: x[\"text\"].lower().replace(x[\"club\"].replace(\"-\", \" \"), \"\"), axis=1)\n",
    "    return data\n",
    "\n",
    "def exclude_numbers(data):\n",
    "    data[\"text\"] = data[\"text\"].apply(lambda x: ''.join([i for i in x.lower() if not i.isdigit()]))\n",
    "    return data\n",
    "\n",
    "def drop_multiple_teams_news(data):\n",
    "    multiple_team_news = data.groupby(\"link\", as_index=False)[\"club\"].count()\n",
    "    multiple_team_news = multiple_team_news[multiple_team_news[\"club\"] > 1][\"link\"]\n",
    "    return data[~data[\"link\"].isin(multiple_team_news)]\n"
   ]
  },
  {
   "cell_type": "code",
   "execution_count": 14,
   "metadata": {
    "ExecuteTime": {
     "end_time": "2022-06-22T12:05:37.803469Z",
     "start_time": "2022-06-22T12:05:24.907912Z"
    }
   },
   "outputs": [],
   "source": [
    "data = clean_club_name_from_article(data)\n",
    "data = exclude_numbers(data)\n",
    "data = drop_multiple_teams_news(data)"
   ]
  },
  {
   "cell_type": "code",
   "execution_count": 15,
   "metadata": {
    "ExecuteTime": {
     "end_time": "2022-06-22T12:05:37.934855Z",
     "start_time": "2022-06-22T12:05:37.805153Z"
    }
   },
   "outputs": [],
   "source": [
    "data.loc[:, \"year\"] = data[\"date\"].apply(lambda x: x.split(\"/\")[-1])\n",
    "data.loc[:, \"month\"] = data[\"date\"].apply(lambda x: x.split(\"/\")[1])\n",
    "data.loc[:, \"date\"] = pd.to_datetime(data[\"date\"])"
   ]
  },
  {
   "cell_type": "code",
   "execution_count": 16,
   "metadata": {
    "ExecuteTime": {
     "end_time": "2022-06-22T12:05:38.014230Z",
     "start_time": "2022-06-22T12:05:37.937904Z"
    }
   },
   "outputs": [],
   "source": [
    "### Monthly context\n",
    "data[\"year-month\"] = data[\"year\"] + \"-\" + data[\"month\"]\n",
    "\n",
    "### Weekly context\n",
    "data[\"year-week\"] = create_different_time_slices(data)\n",
    "data[\"year-week\"] = data[\"year\"] + \"-\" + data[\"year-week\"].astype(str)"
   ]
  },
  {
   "cell_type": "code",
   "execution_count": 17,
   "metadata": {
    "ExecuteTime": {
     "end_time": "2022-06-22T12:05:38.037678Z",
     "start_time": "2022-06-22T12:05:38.016729Z"
    }
   },
   "outputs": [
    {
     "name": "stdout",
     "output_type": "stream",
     "text": [
      "The fraction of positive cases is 0.08\n"
     ]
    }
   ],
   "source": [
    "data[\"target\"] = data[\"club\"].apply(lambda x: 1 if x == positive_case else 0)\n",
    "\n",
    "print(\"The fraction of positive cases is {:.2f}\".format(data[\"target\"].mean()))"
   ]
  },
  {
   "cell_type": "code",
   "execution_count": 18,
   "metadata": {
    "ExecuteTime": {
     "end_time": "2022-06-22T12:05:38.114279Z",
     "start_time": "2022-06-22T12:05:38.039150Z"
    }
   },
   "outputs": [],
   "source": [
    "data = exclude_periods_without_positive_case(data, positive_case, \"year-month\")"
   ]
  },
  {
   "cell_type": "code",
   "execution_count": 19,
   "metadata": {
    "ExecuteTime": {
     "end_time": "2022-06-22T12:05:38.120158Z",
     "start_time": "2022-06-22T12:05:38.116706Z"
    }
   },
   "outputs": [],
   "source": [
    "train_end_date = \"2019-01\"\n",
    "holdout_end_date = \"2022-06\"\n",
    "train_end_year = int(train_end_date.split(\"-\")[0])"
   ]
  },
  {
   "cell_type": "code",
   "execution_count": 20,
   "metadata": {
    "ExecuteTime": {
     "end_time": "2022-06-22T12:05:38.161247Z",
     "start_time": "2022-06-22T12:05:38.122604Z"
    }
   },
   "outputs": [],
   "source": [
    "in_time = data[data[\"year-month\"] < train_end_date]\n",
    "\n",
    "train, test = train_test_split(in_time, \n",
    "                               test_size=0.2, \n",
    "                               random_state=42)\n",
    "\n",
    "out_of_time = data[(data[\"year-month\"] >= train_end_date) & (data[\"year-month\"] <= holdout_end_date)]"
   ]
  },
  {
   "cell_type": "code",
   "execution_count": 21,
   "metadata": {
    "ExecuteTime": {
     "end_time": "2022-06-22T12:05:38.165741Z",
     "start_time": "2022-06-22T12:05:38.162946Z"
    }
   },
   "outputs": [],
   "source": [
    "target = \"target\"\n",
    "time_column = \"year-month\"\n",
    "time_column = \"year\"\n",
    "dummy_time_column = \"dummy_date\""
   ]
  },
  {
   "cell_type": "code",
   "execution_count": 22,
   "metadata": {
    "ExecuteTime": {
     "end_time": "2022-06-22T12:05:38.172012Z",
     "start_time": "2022-06-22T12:05:38.168137Z"
    }
   },
   "outputs": [
    {
     "name": "stdout",
     "output_type": "stream",
     "text": [
      "Dataset shapes:\n",
      "Train: (33397, 11)\n",
      "Test: (8350, 11)\n",
      "Out of time: (82111, 11)\n"
     ]
    }
   ],
   "source": [
    "print(\"Dataset shapes:\")\n",
    "print(\"Train: {}\".format(train.shape))\n",
    "print(\"Test: {}\".format(test.shape))\n",
    "print(\"Out of time: {}\".format(out_of_time.shape))"
   ]
  },
  {
   "cell_type": "code",
   "execution_count": 23,
   "metadata": {
    "ExecuteTime": {
     "end_time": "2022-06-22T12:05:47.958081Z",
     "start_time": "2022-06-22T12:05:38.180693Z"
    }
   },
   "outputs": [],
   "source": [
    "vectorizer = TfidfVectorizer(max_features=MAX_VOCABULARY,\n",
    "                             stop_words=STOP_WORDS,\n",
    "                             binary=False,\n",
    "                             use_idf=True,\n",
    "                             norm=False)\n",
    "\n",
    "train_vectors = pd.DataFrame(vectorizer.fit_transform(train[\"text\"]).toarray(), columns=vectorizer.vocabulary_)\n",
    "test_vectors = pd.DataFrame(vectorizer.transform(test[\"text\"]).toarray(), columns=vectorizer.vocabulary_)\n",
    "oot_vectors = pd.DataFrame(vectorizer.transform(out_of_time[\"text\"]).toarray(), columns=vectorizer.vocabulary_)"
   ]
  },
  {
   "cell_type": "code",
   "execution_count": 24,
   "metadata": {
    "ExecuteTime": {
     "end_time": "2022-06-22T12:05:47.964227Z",
     "start_time": "2022-06-22T12:05:47.961976Z"
    }
   },
   "outputs": [],
   "source": [
    "features = list(vectorizer.vocabulary_.keys())"
   ]
  },
  {
   "cell_type": "code",
   "execution_count": 25,
   "metadata": {
    "ExecuteTime": {
     "end_time": "2022-06-22T12:05:47.971508Z",
     "start_time": "2022-06-22T12:05:47.966174Z"
    }
   },
   "outputs": [],
   "source": [
    "train_vectors[time_column] = train[time_column].values\n",
    "test_vectors[time_column] = test[time_column].values\n",
    "oot_vectors[time_column] = out_of_time[time_column].values"
   ]
  },
  {
   "cell_type": "code",
   "execution_count": 26,
   "metadata": {
    "ExecuteTime": {
     "end_time": "2022-06-22T12:05:47.977482Z",
     "start_time": "2022-06-22T12:05:47.973017Z"
    }
   },
   "outputs": [],
   "source": [
    "train_vectors[dummy_time_column] = 1\n",
    "train_vectors[\"date\"] = train[\"date\"].values\n",
    "train_vectors[\"year-month\"] = train[\"year-month\"].values"
   ]
  },
  {
   "cell_type": "code",
   "execution_count": 27,
   "metadata": {
    "ExecuteTime": {
     "end_time": "2022-06-22T12:05:47.981538Z",
     "start_time": "2022-06-22T12:05:47.979083Z"
    }
   },
   "outputs": [],
   "source": [
    "train_vectors.reset_index(drop=True, inplace=True)\n",
    "test_vectors.reset_index(drop=True, inplace=True)\n",
    "oot_vectors.reset_index(drop=True, inplace=True)"
   ]
  },
  {
   "cell_type": "code",
   "execution_count": 38,
   "metadata": {
    "ExecuteTime": {
     "end_time": "2022-06-22T12:05:47.985372Z",
     "start_time": "2022-06-22T12:05:47.983163Z"
    }
   },
   "outputs": [],
   "source": [
    "model = RandomForestClassifier(max_depth=15, n_estimators=300)"
   ]
  },
  {
   "cell_type": "code",
   "execution_count": 39,
   "metadata": {
    "ExecuteTime": {
     "end_time": "2022-06-22T12:05:49.719723Z",
     "start_time": "2022-06-22T12:05:47.987064Z"
    }
   },
   "outputs": [
    {
     "data": {
      "text/plain": [
       "RandomForestClassifier(max_depth=15, n_estimators=300)"
      ]
     },
     "execution_count": 39,
     "metadata": {},
     "output_type": "execute_result"
    }
   ],
   "source": [
    "model.fit(train_vectors.drop(columns=[time_column, dummy_time_column, \"date\", \"year-month\"]), train[\"target\"].values)"
   ]
  },
  {
   "cell_type": "code",
   "execution_count": 40,
   "metadata": {
    "ExecuteTime": {
     "end_time": "2022-06-22T12:05:49.881548Z",
     "start_time": "2022-06-22T12:05:49.721028Z"
    }
   },
   "outputs": [
    {
     "data": {
      "text/plain": [
       "0.9737159812091059"
      ]
     },
     "execution_count": 40,
     "metadata": {},
     "output_type": "execute_result"
    }
   ],
   "source": [
    "train[\"prediction\"] = model.predict_proba(train_vectors.drop(columns=[time_column, dummy_time_column, \"date\", \"year-month\"]))[:, 1]\n",
    "roc_auc_score(train[target], train[\"prediction\"])"
   ]
  },
  {
   "cell_type": "code",
   "execution_count": 41,
   "metadata": {
    "ExecuteTime": {
     "end_time": "2022-06-22T12:05:49.936239Z",
     "start_time": "2022-06-22T12:05:49.883064Z"
    }
   },
   "outputs": [
    {
     "data": {
      "text/plain": [
       "0.9023257327666271"
      ]
     },
     "execution_count": 41,
     "metadata": {},
     "output_type": "execute_result"
    }
   ],
   "source": [
    "test[\"prediction\"] = model.predict_proba(test_vectors.drop(columns=[time_column]))[:, 1]\n",
    "roc_auc_score(test[target], test[\"prediction\"])"
   ]
  },
  {
   "cell_type": "code",
   "execution_count": 42,
   "metadata": {
    "ExecuteTime": {
     "end_time": "2022-06-22T12:05:50.322597Z",
     "start_time": "2022-06-22T12:05:49.937648Z"
    }
   },
   "outputs": [
    {
     "data": {
      "text/plain": [
       "0.8066389884277921"
      ]
     },
     "execution_count": 42,
     "metadata": {},
     "output_type": "execute_result"
    }
   ],
   "source": [
    "out_of_time[\"prediction\"] = model.predict_proba(oot_vectors.drop(columns=[time_column]))[:, 1]\n",
    "roc_auc_score(out_of_time[target], out_of_time[\"prediction\"])"
   ]
  },
  {
   "cell_type": "markdown",
   "metadata": {},
   "source": [
    "## Optimization params"
   ]
  },
  {
   "cell_type": "code",
   "execution_count": 43,
   "metadata": {
    "ExecuteTime": {
     "end_time": "2022-06-22T12:05:50.327909Z",
     "start_time": "2022-06-22T12:05:50.324066Z"
    }
   },
   "outputs": [
    {
     "data": {
      "text/plain": [
       "['max', 'avg']"
      ]
     },
     "execution_count": 43,
     "metadata": {},
     "output_type": "execute_result"
    }
   ],
   "source": [
    "# params_grid = {\"n_estimators\": [30], \n",
    "#               \"max_depth\": [5, 10, 15],\n",
    "#               \"min_impurity_decrease\": [1e-3, 0],\n",
    "#               \"min_sample_periods\": [1, 5, 10],\n",
    "#               \"period_criterion\": [\"max\", \"avg\"]}\n",
    "\n",
    "params_grid = {\"n_estimators\": [300], \n",
    "              \"max_depth\": [10, 15],\n",
    "              \"min_impurity_decrease\": [0, 0.0001],\n",
    "              \"min_sample_periods\": [1, 5, 10],\n",
    "              \"period_criterion\": [\"max\", \"avg\"]}\n",
    "\n",
    "params_grid_benchmark = params_grid.copy()\n",
    "params_grid_benchmark.pop(\"period_criterion\")"
   ]
  },
  {
   "cell_type": "markdown",
   "metadata": {},
   "source": [
    "## Random Time Robust Forest"
   ]
  },
  {
   "cell_type": "markdown",
   "metadata": {},
   "source": [
    "### Few random segments"
   ]
  },
  {
   "cell_type": "code",
   "execution_count": 44,
   "metadata": {
    "ExecuteTime": {
     "end_time": "2022-06-22T12:05:50.331923Z",
     "start_time": "2022-06-22T12:05:50.329294Z"
    }
   },
   "outputs": [],
   "source": [
    "challenger_opt_param = {'max_depth': 10,\n",
    " 'min_impurity_decrease': 0.0001,\n",
    " 'min_sample_periods': 1,\n",
    " 'n_estimators': 300,\n",
    " 'period_criterion': 'max'}"
   ]
  },
  {
   "cell_type": "code",
   "execution_count": 45,
   "metadata": {
    "ExecuteTime": {
     "end_time": "2022-06-22T12:08:10.280045Z",
     "start_time": "2022-06-22T12:05:50.333431Z"
    }
   },
   "outputs": [],
   "source": [
    "time_stamp = \"date\"\n",
    "\n",
    "r_few_challenger_model = TimeForestClassifier(time_column=time_stamp,\n",
    "                                       multi=True, \n",
    "                                       random_segments=5,\n",
    "                                       **challenger_opt_param)\n",
    "\n",
    "r_few_challenger_model.fit(train_vectors[features + [time_stamp]], train[target])"
   ]
  },
  {
   "cell_type": "code",
   "execution_count": 46,
   "metadata": {
    "ExecuteTime": {
     "end_time": "2022-06-22T12:08:32.831888Z",
     "start_time": "2022-06-22T12:08:10.283399Z"
    }
   },
   "outputs": [],
   "source": [
    "train[\"r_few_challenger_prediction\"] = r_few_challenger_model.predict_proba(train_vectors[features])[:, 1]\n",
    "test[\"r_few_challenger_prediction\"] = r_few_challenger_model.predict_proba(test_vectors[features])[:, 1]\n",
    "out_of_time[\"r_few_challenger_prediction\"] = r_few_challenger_model.predict_proba(oot_vectors[features])[:, 1]"
   ]
  },
  {
   "cell_type": "code",
   "execution_count": 47,
   "metadata": {
    "ExecuteTime": {
     "end_time": "2022-06-22T12:08:32.876712Z",
     "start_time": "2022-06-22T12:08:32.835352Z"
    },
    "scrolled": true
   },
   "outputs": [
    {
     "name": "stdout",
     "output_type": "stream",
     "text": [
      "0.8994453129832695\n",
      "0.8893132032933089\n",
      "0.8218064776183499\n"
     ]
    }
   ],
   "source": [
    "print(roc_auc_score(train[target], train[\"r_few_challenger_prediction\"]))\n",
    "print(roc_auc_score(test[target], test[\"r_few_challenger_prediction\"]))\n",
    "print(roc_auc_score(out_of_time[target], out_of_time[\"r_few_challenger_prediction\"]))"
   ]
  },
  {
   "cell_type": "code",
   "execution_count": 48,
   "metadata": {
    "ExecuteTime": {
     "end_time": "2022-06-22T12:08:32.990508Z",
     "start_time": "2022-06-22T12:08:32.879188Z"
    }
   },
   "outputs": [
    {
     "data": {
      "text/html": [
       "<div>\n",
       "<style scoped>\n",
       "    .dataframe tbody tr th:only-of-type {\n",
       "        vertical-align: middle;\n",
       "    }\n",
       "\n",
       "    .dataframe tbody tr th {\n",
       "        vertical-align: top;\n",
       "    }\n",
       "\n",
       "    .dataframe thead th {\n",
       "        text-align: right;\n",
       "    }\n",
       "</style>\n",
       "<table border=\"1\" class=\"dataframe\">\n",
       "  <thead>\n",
       "    <tr style=\"text-align: right;\">\n",
       "      <th></th>\n",
       "      <th>Random TRF (few)</th>\n",
       "    </tr>\n",
       "    <tr>\n",
       "      <th>Feature</th>\n",
       "      <th></th>\n",
       "    </tr>\n",
       "  </thead>\n",
       "  <tbody>\n",
       "    <tr>\n",
       "      <th>clubes</th>\n",
       "      <td>0.857049</td>\n",
       "    </tr>\n",
       "    <tr>\n",
       "      <th>bola</th>\n",
       "      <td>0.483713</td>\n",
       "    </tr>\n",
       "    <tr>\n",
       "      <th>lucas</th>\n",
       "      <td>0.389796</td>\n",
       "    </tr>\n",
       "    <tr>\n",
       "      <th>marcou</th>\n",
       "      <td>0.359808</td>\n",
       "    </tr>\n",
       "    <tr>\n",
       "      <th>sempre</th>\n",
       "      <td>0.314236</td>\n",
       "    </tr>\n",
       "    <tr>\n",
       "      <th>tabela</th>\n",
       "      <td>0.191829</td>\n",
       "    </tr>\n",
       "    <tr>\n",
       "      <th>sido</th>\n",
       "      <td>0.170973</td>\n",
       "    </tr>\n",
       "    <tr>\n",
       "      <th>semana</th>\n",
       "      <td>0.137181</td>\n",
       "    </tr>\n",
       "    <tr>\n",
       "      <th>alguns</th>\n",
       "      <td>0.121751</td>\n",
       "    </tr>\n",
       "    <tr>\n",
       "      <th>quarta</th>\n",
       "      <td>0.085547</td>\n",
       "    </tr>\n",
       "    <tr>\n",
       "      <th>gols</th>\n",
       "      <td>0.080534</td>\n",
       "    </tr>\n",
       "    <tr>\n",
       "      <th>melhor</th>\n",
       "      <td>0.073113</td>\n",
       "    </tr>\n",
       "    <tr>\n",
       "      <th>feira</th>\n",
       "      <td>0.072803</td>\n",
       "    </tr>\n",
       "    <tr>\n",
       "      <th>quatro</th>\n",
       "      <td>0.062403</td>\n",
       "    </tr>\n",
       "    <tr>\n",
       "      <th>tarde</th>\n",
       "      <td>0.057930</td>\n",
       "    </tr>\n",
       "    <tr>\n",
       "      <th>diante</th>\n",
       "      <td>0.056954</td>\n",
       "    </tr>\n",
       "    <tr>\n",
       "      <th>ex</th>\n",
       "      <td>0.051761</td>\n",
       "    </tr>\n",
       "    <tr>\n",
       "      <th>meses</th>\n",
       "      <td>0.048435</td>\n",
       "    </tr>\n",
       "    <tr>\n",
       "      <th>eduardo</th>\n",
       "      <td>0.045567</td>\n",
       "    </tr>\n",
       "    <tr>\n",
       "      <th>sexta</th>\n",
       "      <td>0.042585</td>\n",
       "    </tr>\n",
       "  </tbody>\n",
       "</table>\n",
       "</div>"
      ],
      "text/plain": [
       "         Random TRF (few)\n",
       "Feature                  \n",
       "clubes           0.857049\n",
       "bola             0.483713\n",
       "lucas            0.389796\n",
       "marcou           0.359808\n",
       "sempre           0.314236\n",
       "tabela           0.191829\n",
       "sido             0.170973\n",
       "semana           0.137181\n",
       "alguns           0.121751\n",
       "quarta           0.085547\n",
       "gols             0.080534\n",
       "melhor           0.073113\n",
       "feira            0.072803\n",
       "quatro           0.062403\n",
       "tarde            0.057930\n",
       "diante           0.056954\n",
       "ex               0.051761\n",
       "meses            0.048435\n",
       "eduardo          0.045567\n",
       "sexta            0.042585"
      ]
     },
     "execution_count": 48,
     "metadata": {},
     "output_type": "execute_result"
    }
   ],
   "source": [
    "importance = r_few_challenger_model.feature_importance(impurity_decrease=True)\n",
    "importance.rename(columns={\"Importance\": \"Random TRF (few)\"}, inplace=True)\n",
    "importance.head(20)"
   ]
  },
  {
   "cell_type": "markdown",
   "metadata": {},
   "source": [
    "### Many random segments"
   ]
  },
  {
   "cell_type": "code",
   "execution_count": 49,
   "metadata": {
    "ExecuteTime": {
     "end_time": "2022-06-22T12:09:24.345429Z",
     "start_time": "2022-06-22T12:08:32.992870Z"
    }
   },
   "outputs": [],
   "source": [
    "time_stamp = \"date\"\n",
    "challenger_opt_param = {'max_depth': 10,\n",
    " 'min_impurity_decrease': 0.0001,\n",
    " 'min_sample_periods': 1,\n",
    " 'n_estimators': 300,\n",
    " 'period_criterion': 'max'}\n",
    "\n",
    "r_many_challenger_model = TimeForestClassifier(time_column=time_stamp,\n",
    "                                       multi=True, \n",
    "                                       random_segments=200,\n",
    "                                       **challenger_opt_param)\n",
    "\n",
    "r_many_challenger_model.fit(train_vectors[features + [time_stamp]], train[target])"
   ]
  },
  {
   "cell_type": "code",
   "execution_count": 50,
   "metadata": {
    "ExecuteTime": {
     "end_time": "2022-06-22T12:09:41.138112Z",
     "start_time": "2022-06-22T12:09:24.347476Z"
    }
   },
   "outputs": [
    {
     "name": "stdout",
     "output_type": "stream",
     "text": [
      "0.8567333814224487\n",
      "0.8590717420107784\n",
      "0.807625906189096\n"
     ]
    }
   ],
   "source": [
    "train[\"r_many_challenger_prediction\"] = r_many_challenger_model.predict_proba(train_vectors[features])[:, 1]\n",
    "test[\"r_many_challenger_prediction\"] = r_many_challenger_model.predict_proba(test_vectors[features])[:, 1]\n",
    "out_of_time[\"r_many_challenger_prediction\"] = r_many_challenger_model.predict_proba(oot_vectors[features])[:, 1]\n",
    "\n",
    "print(roc_auc_score(train[target], train[\"r_many_challenger_prediction\"]))\n",
    "print(roc_auc_score(test[target], test[\"r_many_challenger_prediction\"]))\n",
    "print(roc_auc_score(out_of_time[target], out_of_time[\"r_many_challenger_prediction\"]))"
   ]
  },
  {
   "cell_type": "code",
   "execution_count": 51,
   "metadata": {
    "ExecuteTime": {
     "end_time": "2022-06-22T12:09:41.221794Z",
     "start_time": "2022-06-22T12:09:41.139696Z"
    }
   },
   "outputs": [
    {
     "data": {
      "text/html": [
       "<div>\n",
       "<style scoped>\n",
       "    .dataframe tbody tr th:only-of-type {\n",
       "        vertical-align: middle;\n",
       "    }\n",
       "\n",
       "    .dataframe tbody tr th {\n",
       "        vertical-align: top;\n",
       "    }\n",
       "\n",
       "    .dataframe thead th {\n",
       "        text-align: right;\n",
       "    }\n",
       "</style>\n",
       "<table border=\"1\" class=\"dataframe\">\n",
       "  <thead>\n",
       "    <tr style=\"text-align: right;\">\n",
       "      <th></th>\n",
       "      <th>Random TRF (many)</th>\n",
       "    </tr>\n",
       "    <tr>\n",
       "      <th>Feature</th>\n",
       "      <th></th>\n",
       "    </tr>\n",
       "  </thead>\n",
       "  <tbody>\n",
       "    <tr>\n",
       "      <th>clubes</th>\n",
       "      <td>0.030169</td>\n",
       "    </tr>\n",
       "    <tr>\n",
       "      <th>marcou</th>\n",
       "      <td>0.012407</td>\n",
       "    </tr>\n",
       "    <tr>\n",
       "      <th>lucas</th>\n",
       "      <td>0.009923</td>\n",
       "    </tr>\n",
       "    <tr>\n",
       "      <th>sempre</th>\n",
       "      <td>0.004593</td>\n",
       "    </tr>\n",
       "    <tr>\n",
       "      <th>alguns</th>\n",
       "      <td>0.003839</td>\n",
       "    </tr>\n",
       "    <tr>\n",
       "      <th>sido</th>\n",
       "      <td>0.003446</td>\n",
       "    </tr>\n",
       "    <tr>\n",
       "      <th>bola</th>\n",
       "      <td>0.003431</td>\n",
       "    </tr>\n",
       "    <tr>\n",
       "      <th>semana</th>\n",
       "      <td>0.002253</td>\n",
       "    </tr>\n",
       "    <tr>\n",
       "      <th>quatro</th>\n",
       "      <td>0.001924</td>\n",
       "    </tr>\n",
       "    <tr>\n",
       "      <th>meses</th>\n",
       "      <td>0.001480</td>\n",
       "    </tr>\n",
       "    <tr>\n",
       "      <th>ex</th>\n",
       "      <td>0.001418</td>\n",
       "    </tr>\n",
       "    <tr>\n",
       "      <th>eduardo</th>\n",
       "      <td>0.001310</td>\n",
       "    </tr>\n",
       "    <tr>\n",
       "      <th>horário</th>\n",
       "      <td>0.001002</td>\n",
       "    </tr>\n",
       "    <tr>\n",
       "      <th>tabela</th>\n",
       "      <td>0.000918</td>\n",
       "    </tr>\n",
       "    <tr>\n",
       "      <th>antes</th>\n",
       "      <td>0.000905</td>\n",
       "    </tr>\n",
       "    <tr>\n",
       "      <th>gols</th>\n",
       "      <td>0.000903</td>\n",
       "    </tr>\n",
       "    <tr>\n",
       "      <th>diante</th>\n",
       "      <td>0.000814</td>\n",
       "    </tr>\n",
       "    <tr>\n",
       "      <th>dá</th>\n",
       "      <td>0.000778</td>\n",
       "    </tr>\n",
       "    <tr>\n",
       "      <th>derrota</th>\n",
       "      <td>0.000685</td>\n",
       "    </tr>\n",
       "    <tr>\n",
       "      <th>profissional</th>\n",
       "      <td>0.000484</td>\n",
       "    </tr>\n",
       "  </tbody>\n",
       "</table>\n",
       "</div>"
      ],
      "text/plain": [
       "              Random TRF (many)\n",
       "Feature                        \n",
       "clubes                 0.030169\n",
       "marcou                 0.012407\n",
       "lucas                  0.009923\n",
       "sempre                 0.004593\n",
       "alguns                 0.003839\n",
       "sido                   0.003446\n",
       "bola                   0.003431\n",
       "semana                 0.002253\n",
       "quatro                 0.001924\n",
       "meses                  0.001480\n",
       "ex                     0.001418\n",
       "eduardo                0.001310\n",
       "horário                0.001002\n",
       "tabela                 0.000918\n",
       "antes                  0.000905\n",
       "gols                   0.000903\n",
       "diante                 0.000814\n",
       "dá                     0.000778\n",
       "derrota                0.000685\n",
       "profissional           0.000484"
      ]
     },
     "execution_count": 51,
     "metadata": {},
     "output_type": "execute_result"
    }
   ],
   "source": [
    "importance = r_many_challenger_model.feature_importance(impurity_decrease=True)\n",
    "importance.rename(columns={\"Importance\": \"Random TRF (many)\"}, inplace=True)\n",
    "importance.head(20)"
   ]
  },
  {
   "cell_type": "markdown",
   "metadata": {},
   "source": [
    "### A couple of engineered segments"
   ]
  },
  {
   "cell_type": "code",
   "execution_count": 52,
   "metadata": {},
   "outputs": [
    {
     "data": {
      "text/plain": [
       "1"
      ]
     },
     "execution_count": 52,
     "metadata": {},
     "output_type": "execute_result"
    }
   ],
   "source": [
    "1"
   ]
  },
  {
   "cell_type": "code",
   "execution_count": 53,
   "metadata": {
    "ExecuteTime": {
     "end_time": "2022-06-22T12:11:10.741975Z",
     "start_time": "2022-06-22T12:09:41.223365Z"
    }
   },
   "outputs": [],
   "source": [
    "time_column = \"year\"\n",
    "\n",
    "r_eng_challenger_model = TimeForestClassifier(time_column=time_column,\n",
    "                                       multi=True, \n",
    "                                       random_segments=[\"year\", \"year-month\"],\n",
    "                                       **challenger_opt_param)\n",
    "\n",
    "r_eng_challenger_model.fit(train_vectors[features + [\"year\", \"year-month\"]], train[target])"
   ]
  },
  {
   "cell_type": "code",
   "execution_count": 54,
   "metadata": {
    "ExecuteTime": {
     "end_time": "2022-06-22T12:11:32.621228Z",
     "start_time": "2022-06-22T12:11:10.743883Z"
    }
   },
   "outputs": [
    {
     "name": "stdout",
     "output_type": "stream",
     "text": [
      "0.8666125257507596\n",
      "0.862798408685972\n",
      "0.8251582424546529\n"
     ]
    }
   ],
   "source": [
    "train[\"r_eng_challenger_prediction\"] = r_eng_challenger_model.predict_proba(train_vectors[features])[:, 1]\n",
    "test[\"r_eng_challenger_prediction\"] = r_eng_challenger_model.predict_proba(test_vectors[features])[:, 1]\n",
    "out_of_time[\"r_eng_challenger_prediction\"] = r_eng_challenger_model.predict_proba(oot_vectors[features])[:, 1]\n",
    "\n",
    "print(roc_auc_score(train[target], train[\"r_eng_challenger_prediction\"]))\n",
    "print(roc_auc_score(test[target], test[\"r_eng_challenger_prediction\"]))\n",
    "print(roc_auc_score(out_of_time[target], out_of_time[\"r_eng_challenger_prediction\"]))"
   ]
  },
  {
   "cell_type": "markdown",
   "metadata": {},
   "source": [
    "### year and non-segment"
   ]
  },
  {
   "cell_type": "code",
   "execution_count": 55,
   "metadata": {},
   "outputs": [],
   "source": [
    "time_column = \"year\"\n",
    "\n",
    "r_eng_few_challenger_model = TimeForestClassifier(time_column=time_column,\n",
    "                                       multi=True, \n",
    "                                       random_segments=[\"year\", \"dummy_date\"],\n",
    "                                       **challenger_opt_param)\n",
    "\n",
    "r_eng_few_challenger_model.fit(train_vectors[features + [\"year\", \"dummy_date\"]], train[target])"
   ]
  },
  {
   "cell_type": "code",
   "execution_count": 56,
   "metadata": {},
   "outputs": [
    {
     "name": "stdout",
     "output_type": "stream",
     "text": [
      "0.9065725145200764\n",
      "0.8926410182181381\n",
      "0.8209479891144404\n"
     ]
    }
   ],
   "source": [
    "train[\"r_eng_few_challenger_prediction\"] = r_eng_few_challenger_model.predict_proba(train_vectors[features])[:, 1]\n",
    "test[\"r_eng_few_challenger_prediction\"] = r_eng_few_challenger_model.predict_proba(test_vectors[features])[:, 1]\n",
    "out_of_time[\"r_eng_few_challenger_prediction\"] = r_eng_few_challenger_model.predict_proba(oot_vectors[features])[:, 1]\n",
    "\n",
    "print(roc_auc_score(train[target], train[\"r_eng_few_challenger_prediction\"]))\n",
    "print(roc_auc_score(test[target], test[\"r_eng_few_challenger_prediction\"]))\n",
    "print(roc_auc_score(out_of_time[target], out_of_time[\"r_eng_few_challenger_prediction\"]))"
   ]
  },
  {
   "cell_type": "markdown",
   "metadata": {},
   "source": [
    "## Benchmark"
   ]
  },
  {
   "cell_type": "code",
   "execution_count": null,
   "metadata": {
    "ExecuteTime": {
     "end_time": "2022-06-22T12:13:58.551118Z",
     "start_time": "2022-06-22T12:11:32.623601Z"
    }
   },
   "outputs": [],
   "source": [
    "# model = TimeForestClassifier(time_column=dummy_time_column,\n",
    "#                                         multi=True)\n",
    "\n",
    "# benchmark_opt_param = env_wise_hyper_opt(train_vectors[features + [dummy_time_column]], \n",
    "#                                          train[target].values, \n",
    "#                                          model, \n",
    "#                                          dummy_time_column, \n",
    "#                                          params_grid_benchmark, \n",
    "#                                          cv=5,\n",
    "#                                          scorer=make_scorer(roc_auc_score,\n",
    "#                                                   needs_proba=True))\n",
    "\n",
    "# benchmark_model = TimeForestClassifier(time_column=dummy_time_column,\n",
    "#                                        multi=True, \n",
    "#                                        **benchmark_opt_param)\n",
    "\n",
    "# benchmark_model.fit(train_vectors[features + [dummy_time_column]], train[target])\n",
    "\n",
    "benchmark_opt_param = {'max_depth': 15,\n",
    " 'min_impurity_decrease': 0.0001,\n",
    " 'min_sample_periods': 10,\n",
    " 'n_estimators': 300}\n",
    "\n",
    "benchmark_model = TimeForestClassifier(time_column=dummy_time_column,\n",
    "                                       multi=True, \n",
    "                                       **benchmark_opt_param)\n",
    "\n",
    "benchmark_model.fit(train_vectors[features + [dummy_time_column]], train[target])\n"
   ]
  },
  {
   "cell_type": "code",
   "execution_count": null,
   "metadata": {
    "ExecuteTime": {
     "end_time": "2022-06-22T12:13:58.556812Z",
     "start_time": "2022-06-22T12:13:58.553291Z"
    }
   },
   "outputs": [],
   "source": [
    "benchmark_opt_param"
   ]
  },
  {
   "cell_type": "code",
   "execution_count": null,
   "metadata": {
    "ExecuteTime": {
     "end_time": "2022-06-22T12:13:58.652599Z",
     "start_time": "2022-06-22T12:13:58.559150Z"
    }
   },
   "outputs": [],
   "source": [
    "importance = benchmark_model.feature_importance(impurity_decrease=True)\n",
    "importance.rename(columns={\"Importance\": \"Random Forest\"}, inplace=True)\n",
    "importance.head(20)"
   ]
  },
  {
   "cell_type": "code",
   "execution_count": null,
   "metadata": {
    "ExecuteTime": {
     "end_time": "2022-06-22T12:14:26.323626Z",
     "start_time": "2022-06-22T12:13:58.654987Z"
    }
   },
   "outputs": [],
   "source": [
    "train[\"benchmark_prediction\"] = benchmark_model.predict_proba(train_vectors[features])[:, 1]\n",
    "test[\"benchmark_prediction\"] = benchmark_model.predict_proba(test_vectors[features])[:, 1]\n",
    "out_of_time[\"benchmark_prediction\"] = benchmark_model.predict_proba(oot_vectors[features])[:, 1]"
   ]
  },
  {
   "cell_type": "code",
   "execution_count": 96,
   "metadata": {
    "ExecuteTime": {
     "end_time": "2022-06-22T12:14:26.353042Z",
     "start_time": "2022-06-22T12:14:26.325698Z"
    }
   },
   "outputs": [
    {
     "name": "stdout",
     "output_type": "stream",
     "text": [
      "0.9188549394676071\n",
      "0.8980447381910962\n",
      "0.8134782513821989\n"
     ]
    }
   ],
   "source": [
    "print(roc_auc_score(train[target], train[\"benchmark_prediction\"]))\n",
    "print(roc_auc_score(test[target], test[\"benchmark_prediction\"]))\n",
    "print(roc_auc_score(out_of_time[target], out_of_time[\"benchmark_prediction\"]))"
   ]
  },
  {
   "cell_type": "markdown",
   "metadata": {},
   "source": [
    "## Time Robust Forest"
   ]
  },
  {
   "cell_type": "code",
   "execution_count": null,
   "metadata": {
    "ExecuteTime": {
     "end_time": "2022-06-22T12:16:08.699345Z",
     "start_time": "2022-06-22T12:14:26.355142Z"
    }
   },
   "outputs": [],
   "source": [
    "# model = TimeForestClassifier(time_column=time_column,\n",
    "#                                         multi=True)\n",
    "\n",
    "# challenger_opt_param = env_wise_hyper_opt(train_vectors[features + [time_column]], \n",
    "#                                          train[target].values, \n",
    "#                                          model, \n",
    "#                                          time_column, \n",
    "#                                          params_grid, \n",
    "#                                          cv=5,\n",
    "#                                          scorer=make_scorer(roc_auc_score,\n",
    "#                                                   needs_proba=True))\n",
    "\n",
    "challenger_opt_param = {'max_depth': 10,\n",
    " 'min_impurity_decrease': 0.0001,\n",
    " 'min_sample_periods': 1,\n",
    " 'n_estimators': 300,\n",
    " 'period_criterion': 'max'}\n",
    "\n",
    "challenger_model = TimeForestClassifier(time_column=time_column,\n",
    "                                       multi=True, \n",
    "                                       **challenger_opt_param)\n",
    "\n",
    "challenger_model.fit(train_vectors[features + [time_column]], train[target])"
   ]
  },
  {
   "cell_type": "code",
   "execution_count": null,
   "metadata": {
    "ExecuteTime": {
     "end_time": "2022-06-22T12:16:08.712124Z",
     "start_time": "2022-06-22T12:16:08.704626Z"
    }
   },
   "outputs": [],
   "source": [
    "challenger_opt_param"
   ]
  },
  {
   "cell_type": "code",
   "execution_count": null,
   "metadata": {
    "ExecuteTime": {
     "end_time": "2022-06-22T12:16:31.070039Z",
     "start_time": "2022-06-22T12:16:08.714791Z"
    }
   },
   "outputs": [],
   "source": [
    "train[\"challenger_prediction\"] = challenger_model.predict_proba(train_vectors[features])[:, 1]\n",
    "test[\"challenger_prediction\"] = challenger_model.predict_proba(test_vectors[features])[:, 1]\n",
    "out_of_time[\"challenger_prediction\"] = challenger_model.predict_proba(oot_vectors[features])[:, 1]"
   ]
  },
  {
   "cell_type": "code",
   "execution_count": 95,
   "metadata": {
    "ExecuteTime": {
     "end_time": "2022-06-22T12:16:31.108386Z",
     "start_time": "2022-06-22T12:16:31.073763Z"
    }
   },
   "outputs": [
    {
     "name": "stdout",
     "output_type": "stream",
     "text": [
      "0.8701380346708116\n",
      "0.8657820159003498\n",
      "0.82184067681731\n"
     ]
    }
   ],
   "source": [
    "print(roc_auc_score(train[target], train[\"challenger_prediction\"]))\n",
    "print(roc_auc_score(test[target], test[\"challenger_prediction\"]))\n",
    "print(roc_auc_score(out_of_time[target], out_of_time[\"challenger_prediction\"]))"
   ]
  },
  {
   "cell_type": "code",
   "execution_count": 97,
   "metadata": {
    "ExecuteTime": {
     "end_time": "2022-06-22T12:16:31.188474Z",
     "start_time": "2022-06-22T12:16:31.110291Z"
    }
   },
   "outputs": [
    {
     "data": {
      "text/html": [
       "<div>\n",
       "<style scoped>\n",
       "    .dataframe tbody tr th:only-of-type {\n",
       "        vertical-align: middle;\n",
       "    }\n",
       "\n",
       "    .dataframe tbody tr th {\n",
       "        vertical-align: top;\n",
       "    }\n",
       "\n",
       "    .dataframe thead th {\n",
       "        text-align: right;\n",
       "    }\n",
       "</style>\n",
       "<table border=\"1\" class=\"dataframe\">\n",
       "  <thead>\n",
       "    <tr style=\"text-align: right;\">\n",
       "      <th></th>\n",
       "      <th>Importance</th>\n",
       "    </tr>\n",
       "    <tr>\n",
       "      <th>Feature</th>\n",
       "      <th></th>\n",
       "    </tr>\n",
       "  </thead>\n",
       "  <tbody>\n",
       "    <tr>\n",
       "      <th>clubes</th>\n",
       "      <td>0.624510</td>\n",
       "    </tr>\n",
       "    <tr>\n",
       "      <th>lucas</th>\n",
       "      <td>0.342125</td>\n",
       "    </tr>\n",
       "    <tr>\n",
       "      <th>marcou</th>\n",
       "      <td>0.197610</td>\n",
       "    </tr>\n",
       "    <tr>\n",
       "      <th>sempre</th>\n",
       "      <td>0.120689</td>\n",
       "    </tr>\n",
       "    <tr>\n",
       "      <th>semana</th>\n",
       "      <td>0.092022</td>\n",
       "    </tr>\n",
       "    <tr>\n",
       "      <th>sido</th>\n",
       "      <td>0.088735</td>\n",
       "    </tr>\n",
       "    <tr>\n",
       "      <th>alguns</th>\n",
       "      <td>0.052919</td>\n",
       "    </tr>\n",
       "    <tr>\n",
       "      <th>melhor</th>\n",
       "      <td>0.049175</td>\n",
       "    </tr>\n",
       "    <tr>\n",
       "      <th>feira</th>\n",
       "      <td>0.042555</td>\n",
       "    </tr>\n",
       "    <tr>\n",
       "      <th>ex</th>\n",
       "      <td>0.040574</td>\n",
       "    </tr>\n",
       "    <tr>\n",
       "      <th>meses</th>\n",
       "      <td>0.029468</td>\n",
       "    </tr>\n",
       "    <tr>\n",
       "      <th>sexta</th>\n",
       "      <td>0.026781</td>\n",
       "    </tr>\n",
       "    <tr>\n",
       "      <th>horário</th>\n",
       "      <td>0.021841</td>\n",
       "    </tr>\n",
       "    <tr>\n",
       "      <th>eduardo</th>\n",
       "      <td>0.021376</td>\n",
       "    </tr>\n",
       "    <tr>\n",
       "      <th>tarde</th>\n",
       "      <td>0.020894</td>\n",
       "    </tr>\n",
       "    <tr>\n",
       "      <th>dá</th>\n",
       "      <td>0.020859</td>\n",
       "    </tr>\n",
       "    <tr>\n",
       "      <th>palmeiras</th>\n",
       "      <td>0.018265</td>\n",
       "    </tr>\n",
       "    <tr>\n",
       "      <th>gols</th>\n",
       "      <td>0.016507</td>\n",
       "    </tr>\n",
       "    <tr>\n",
       "      <th>diante</th>\n",
       "      <td>0.016211</td>\n",
       "    </tr>\n",
       "    <tr>\n",
       "      <th>derrota</th>\n",
       "      <td>0.015223</td>\n",
       "    </tr>\n",
       "  </tbody>\n",
       "</table>\n",
       "</div>"
      ],
      "text/plain": [
       "           Importance\n",
       "Feature              \n",
       "clubes       0.624510\n",
       "lucas        0.342125\n",
       "marcou       0.197610\n",
       "sempre       0.120689\n",
       "semana       0.092022\n",
       "sido         0.088735\n",
       "alguns       0.052919\n",
       "melhor       0.049175\n",
       "feira        0.042555\n",
       "ex           0.040574\n",
       "meses        0.029468\n",
       "sexta        0.026781\n",
       "horário      0.021841\n",
       "eduardo      0.021376\n",
       "tarde        0.020894\n",
       "dá           0.020859\n",
       "palmeiras    0.018265\n",
       "gols         0.016507\n",
       "diante       0.016211\n",
       "derrota      0.015223"
      ]
     },
     "execution_count": 97,
     "metadata": {},
     "output_type": "execute_result"
    }
   ],
   "source": [
    "challenger_model.feature_importance(impurity_decrease=True).head(20)"
   ]
  },
  {
   "cell_type": "code",
   "execution_count": 98,
   "metadata": {
    "ExecuteTime": {
     "end_time": "2022-06-22T12:16:31.259917Z",
     "start_time": "2022-06-22T12:16:31.190441Z"
    }
   },
   "outputs": [
    {
     "data": {
      "text/html": [
       "<div>\n",
       "<style scoped>\n",
       "    .dataframe tbody tr th:only-of-type {\n",
       "        vertical-align: middle;\n",
       "    }\n",
       "\n",
       "    .dataframe tbody tr th {\n",
       "        vertical-align: top;\n",
       "    }\n",
       "\n",
       "    .dataframe thead th {\n",
       "        text-align: right;\n",
       "    }\n",
       "</style>\n",
       "<table border=\"1\" class=\"dataframe\">\n",
       "  <thead>\n",
       "    <tr style=\"text-align: right;\">\n",
       "      <th></th>\n",
       "      <th>Random Forest</th>\n",
       "      <th>Time Robust Forest</th>\n",
       "    </tr>\n",
       "    <tr>\n",
       "      <th>Feature</th>\n",
       "      <th></th>\n",
       "      <th></th>\n",
       "    </tr>\n",
       "  </thead>\n",
       "  <tbody>\n",
       "    <tr>\n",
       "      <th>bola</th>\n",
       "      <td>1.726001</td>\n",
       "      <td>0.013870</td>\n",
       "    </tr>\n",
       "    <tr>\n",
       "      <th>clubes</th>\n",
       "      <td>1.427607</td>\n",
       "      <td>0.624510</td>\n",
       "    </tr>\n",
       "    <tr>\n",
       "      <th>lucas</th>\n",
       "      <td>0.787340</td>\n",
       "      <td>0.342125</td>\n",
       "    </tr>\n",
       "    <tr>\n",
       "      <th>tabela</th>\n",
       "      <td>0.765963</td>\n",
       "      <td>0.002239</td>\n",
       "    </tr>\n",
       "    <tr>\n",
       "      <th>sempre</th>\n",
       "      <td>0.679643</td>\n",
       "      <td>0.120689</td>\n",
       "    </tr>\n",
       "    <tr>\n",
       "      <th>marcou</th>\n",
       "      <td>0.652761</td>\n",
       "      <td>0.197610</td>\n",
       "    </tr>\n",
       "    <tr>\n",
       "      <th>quarta</th>\n",
       "      <td>0.384074</td>\n",
       "      <td>0.004006</td>\n",
       "    </tr>\n",
       "    <tr>\n",
       "      <th>semana</th>\n",
       "      <td>0.363119</td>\n",
       "      <td>0.092022</td>\n",
       "    </tr>\n",
       "    <tr>\n",
       "      <th>gols</th>\n",
       "      <td>0.314491</td>\n",
       "      <td>0.016507</td>\n",
       "    </tr>\n",
       "    <tr>\n",
       "      <th>sido</th>\n",
       "      <td>0.306148</td>\n",
       "      <td>0.088735</td>\n",
       "    </tr>\n",
       "    <tr>\n",
       "      <th>tarde</th>\n",
       "      <td>0.292387</td>\n",
       "      <td>0.020894</td>\n",
       "    </tr>\n",
       "    <tr>\n",
       "      <th>alguns</th>\n",
       "      <td>0.286534</td>\n",
       "      <td>0.052919</td>\n",
       "    </tr>\n",
       "    <tr>\n",
       "      <th>melhor</th>\n",
       "      <td>0.194011</td>\n",
       "      <td>0.049175</td>\n",
       "    </tr>\n",
       "    <tr>\n",
       "      <th>feira</th>\n",
       "      <td>0.140848</td>\n",
       "      <td>0.042555</td>\n",
       "    </tr>\n",
       "    <tr>\n",
       "      <th>diante</th>\n",
       "      <td>0.138624</td>\n",
       "      <td>0.016211</td>\n",
       "    </tr>\n",
       "    <tr>\n",
       "      <th>sexta</th>\n",
       "      <td>0.108403</td>\n",
       "      <td>0.026781</td>\n",
       "    </tr>\n",
       "    <tr>\n",
       "      <th>quatro</th>\n",
       "      <td>0.100814</td>\n",
       "      <td>0.010206</td>\n",
       "    </tr>\n",
       "    <tr>\n",
       "      <th>eduardo</th>\n",
       "      <td>0.099026</td>\n",
       "      <td>0.021376</td>\n",
       "    </tr>\n",
       "    <tr>\n",
       "      <th>ex</th>\n",
       "      <td>0.092739</td>\n",
       "      <td>0.040574</td>\n",
       "    </tr>\n",
       "    <tr>\n",
       "      <th>horário</th>\n",
       "      <td>0.083007</td>\n",
       "      <td>0.021841</td>\n",
       "    </tr>\n",
       "    <tr>\n",
       "      <th>carioca</th>\n",
       "      <td>0.080953</td>\n",
       "      <td>0.001618</td>\n",
       "    </tr>\n",
       "    <tr>\n",
       "      <th>meses</th>\n",
       "      <td>0.079697</td>\n",
       "      <td>0.029468</td>\n",
       "    </tr>\n",
       "    <tr>\n",
       "      <th>dá</th>\n",
       "      <td>0.077531</td>\n",
       "      <td>0.020859</td>\n",
       "    </tr>\n",
       "    <tr>\n",
       "      <th>bastante</th>\n",
       "      <td>0.075365</td>\n",
       "      <td>0.011064</td>\n",
       "    </tr>\n",
       "    <tr>\n",
       "      <th>base</th>\n",
       "      <td>0.073239</td>\n",
       "      <td>0.004222</td>\n",
       "    </tr>\n",
       "    <tr>\n",
       "      <th>confiança</th>\n",
       "      <td>0.062432</td>\n",
       "      <td>0.011654</td>\n",
       "    </tr>\n",
       "    <tr>\n",
       "      <th>então</th>\n",
       "      <td>0.062212</td>\n",
       "      <td>0.004995</td>\n",
       "    </tr>\n",
       "    <tr>\n",
       "      <th>veja</th>\n",
       "      <td>0.056765</td>\n",
       "      <td>0.006720</td>\n",
       "    </tr>\n",
       "    <tr>\n",
       "      <th>derrota</th>\n",
       "      <td>0.056652</td>\n",
       "      <td>0.015223</td>\n",
       "    </tr>\n",
       "    <tr>\n",
       "      <th>trabalho</th>\n",
       "      <td>0.053852</td>\n",
       "      <td>0.004395</td>\n",
       "    </tr>\n",
       "  </tbody>\n",
       "</table>\n",
       "</div>"
      ],
      "text/plain": [
       "           Random Forest  Time Robust Forest\n",
       "Feature                                     \n",
       "bola            1.726001            0.013870\n",
       "clubes          1.427607            0.624510\n",
       "lucas           0.787340            0.342125\n",
       "tabela          0.765963            0.002239\n",
       "sempre          0.679643            0.120689\n",
       "marcou          0.652761            0.197610\n",
       "quarta          0.384074            0.004006\n",
       "semana          0.363119            0.092022\n",
       "gols            0.314491            0.016507\n",
       "sido            0.306148            0.088735\n",
       "tarde           0.292387            0.020894\n",
       "alguns          0.286534            0.052919\n",
       "melhor          0.194011            0.049175\n",
       "feira           0.140848            0.042555\n",
       "diante          0.138624            0.016211\n",
       "sexta           0.108403            0.026781\n",
       "quatro          0.100814            0.010206\n",
       "eduardo         0.099026            0.021376\n",
       "ex              0.092739            0.040574\n",
       "horário         0.083007            0.021841\n",
       "carioca         0.080953            0.001618\n",
       "meses           0.079697            0.029468\n",
       "dá              0.077531            0.020859\n",
       "bastante        0.075365            0.011064\n",
       "base            0.073239            0.004222\n",
       "confiança       0.062432            0.011654\n",
       "então           0.062212            0.004995\n",
       "veja            0.056765            0.006720\n",
       "derrota         0.056652            0.015223\n",
       "trabalho        0.053852            0.004395"
      ]
     },
     "execution_count": 98,
     "metadata": {},
     "output_type": "execute_result"
    }
   ],
   "source": [
    "challenger_importances = challenger_model.feature_importance(impurity_decrease=True).rename(columns={\"Importance\": \"Time Robust Forest\"})\n",
    "all_importances = importance.merge(challenger_importances, left_index=True, right_index=True)\n",
    "\n",
    "all_importances.head(30)"
   ]
  },
  {
   "cell_type": "code",
   "execution_count": 99,
   "metadata": {
    "ExecuteTime": {
     "end_time": "2022-06-22T12:16:31.855234Z",
     "start_time": "2022-06-22T12:16:31.262395Z"
    }
   },
   "outputs": [
    {
     "data": {
      "image/png": "[encoded data removed]",
      "text/plain": [
       "<Figure size 432x288 with 1 Axes>"
      ]
     },
     "metadata": {
      "needs_background": "light"
     },
     "output_type": "display_data"
    },
    {
     "data": {
      "image/png": "[encoded data removed]",
      "text/plain": [
       "<Figure size 432x288 with 1 Axes>"
      ]
     },
     "metadata": {
      "needs_background": "light"
     },
     "output_type": "display_data"
    }
   ],
   "source": [
    "bins = np.linspace(0, 0.65)\n",
    "plt.hist(challenger_model.feature_importance(impurity_decrease=True)[\"Importance\"], bins=bins)\n",
    "plt.xlim([-0.001, 0.70])\n",
    "plt.show()\n",
    "plt.hist(benchmark_model.feature_importance(impurity_decrease=True)[\"Importance\"], bins=bins)\n",
    "plt.xlim([-0.001, 0.70])\n",
    "plt.show()"
   ]
  },
  {
   "cell_type": "code",
   "execution_count": 100,
   "metadata": {
    "ExecuteTime": {
     "end_time": "2022-06-22T12:16:31.864720Z",
     "start_time": "2022-06-22T12:16:31.857223Z"
    }
   },
   "outputs": [
    {
     "data": {
      "text/html": [
       "<div>\n",
       "<style scoped>\n",
       "    .dataframe tbody tr th:only-of-type {\n",
       "        vertical-align: middle;\n",
       "    }\n",
       "\n",
       "    .dataframe tbody tr th {\n",
       "        vertical-align: top;\n",
       "    }\n",
       "\n",
       "    .dataframe thead th {\n",
       "        text-align: right;\n",
       "    }\n",
       "</style>\n",
       "<table border=\"1\" class=\"dataframe\">\n",
       "  <thead>\n",
       "    <tr style=\"text-align: right;\">\n",
       "      <th></th>\n",
       "      <th>Random Forest</th>\n",
       "      <th>Time Robust Forest</th>\n",
       "    </tr>\n",
       "  </thead>\n",
       "  <tbody>\n",
       "    <tr>\n",
       "      <th>Random Forest</th>\n",
       "      <td>1.000000</td>\n",
       "      <td>0.692085</td>\n",
       "    </tr>\n",
       "    <tr>\n",
       "      <th>Time Robust Forest</th>\n",
       "      <td>0.692085</td>\n",
       "      <td>1.000000</td>\n",
       "    </tr>\n",
       "  </tbody>\n",
       "</table>\n",
       "</div>"
      ],
      "text/plain": [
       "                    Random Forest  Time Robust Forest\n",
       "Random Forest            1.000000            0.692085\n",
       "Time Robust Forest       0.692085            1.000000"
      ]
     },
     "execution_count": 100,
     "metadata": {},
     "output_type": "execute_result"
    }
   ],
   "source": [
    "all_importances.corr()"
   ]
  },
  {
   "cell_type": "code",
   "execution_count": 101,
   "metadata": {
    "ExecuteTime": {
     "end_time": "2022-06-22T12:16:32.200983Z",
     "start_time": "2022-06-22T12:16:31.866969Z"
    }
   },
   "outputs": [
    {
     "data": {
      "text/plain": [
       "<matplotlib.collections.PathCollection at 0x7f5c38581100>"
      ]
     },
     "execution_count": 101,
     "metadata": {},
     "output_type": "execute_result"
    },
    {
     "data": {
      "image/png": "[encoded data removed]",
      "text/plain": [
       "<Figure size 432x288 with 1 Axes>"
      ]
     },
     "metadata": {
      "needs_background": "light"
     },
     "output_type": "display_data"
    }
   ],
   "source": [
    "plt.scatter(all_importances[\"Random Forest\"], all_importances[\"Time Robust Forest\"])"
   ]
  },
  {
   "cell_type": "code",
   "execution_count": 92,
   "metadata": {
    "ExecuteTime": {
     "end_time": "2022-06-22T12:16:33.351996Z",
     "start_time": "2022-06-22T12:16:32.203470Z"
    }
   },
   "outputs": [
    {
     "data": {
      "image/png": "[encoded data removed]",
      "text/plain": [
       "<Figure size 432x288 with 1 Axes>"
      ]
     },
     "metadata": {
      "needs_background": "light"
     },
     "output_type": "display_data"
    }
   ],
   "source": [
    "pd.concat([test, out_of_time]).groupby(time_column).apply(lambda x: roc_auc_score(x[target], x[\"benchmark_prediction\"])).plot(label=\"Random Forest\")\n",
    "pd.concat([test, out_of_time]).groupby(time_column).apply(lambda x: roc_auc_score(x[target], x[\"challenger_prediction\"])).plot(label=\"Time Robust Forest\")\n",
    "pd.concat([test, out_of_time]).groupby(time_column).apply(lambda x: roc_auc_score(x[target], x[\"r_few_challenger_prediction\"])).plot(label=\"Random TRF (few)\")\n",
    "pd.concat([test, out_of_time]).groupby(time_column).apply(lambda x: roc_auc_score(x[target], x[\"r_many_challenger_prediction\"])).plot(label=\"Random TRF (many)\")\n",
    "pd.concat([test, out_of_time]).groupby(time_column).apply(lambda x: roc_auc_score(x[target], x[\"r_eng_challenger_prediction\"])).plot(label=\"Random TRF (eng)\")\n",
    "pd.concat([test, out_of_time]).groupby(time_column).apply(lambda x: roc_auc_score(x[target], x[\"r_eng_few_challenger_prediction\"])).plot(label=\"TRF + RF\")\n",
    "# pd.concat([test, out_of_time]).groupby(time_column).apply(lambda x: roc_auc_score(x[target], x[\"prediction_lgbm\"])).plot(label=\"LGBM\")\n",
    "\n",
    "xmin, xmax, ymin, ymax = plt.axis()\n",
    "plt.vlines(4, ymin, ymax, linestyle=\"dotted\", color=\"red\", label=\"Out of time split\")\n",
    "\n",
    "\n",
    "plt.legend(bbox_to_anchor=(1.00, 1.0))\n",
    "plt.title(\"AUC by year for Time Robust Forest and Random Forest on the GE Club News dataset\")\n",
    "plt.ylabel(\"AUC\")\n",
    "plt.xlabel(\"Year\")\n",
    "plt.show()"
   ]
  },
  {
   "cell_type": "code",
   "execution_count": 105,
   "metadata": {},
   "outputs": [
    {
     "data": {
      "image/png": "[encoded data removed]",
      "text/plain": [
       "<Figure size 432x288 with 1 Axes>"
      ]
     },
     "metadata": {
      "needs_background": "light"
     },
     "output_type": "display_data"
    }
   ],
   "source": [
    "fig, ax = plt.subplots()\n",
    "pd.concat([test, out_of_time]).groupby(time_column).apply(lambda x: roc_auc_score(x[target], x[\"benchmark_prediction\"])).plot(label=\"Random Forest\", \n",
    "                                                                                                                              linestyle=\"dashed\")\n",
    "pd.concat([test, out_of_time]).groupby(time_column).apply(lambda x: roc_auc_score(x[target], x[\"challenger_prediction\"])).plot(label=\"Time Robust Forest\", \n",
    "                                                                                                                       linestyle=\"-.\")\n",
    "pd.concat([test, out_of_time]).groupby(time_column).apply(lambda x: roc_auc_score(x[target], x[\"r_few_challenger_prediction\"])).plot(label=\"Random TRF (few)\")\n",
    "pd.concat([test, out_of_time]).groupby(time_column).apply(lambda x: roc_auc_score(x[target], x[\"r_many_challenger_prediction\"])).plot(label=\"Random TRF (many)\")\n",
    "pd.concat([test, out_of_time]).groupby(time_column).apply(lambda x: roc_auc_score(x[target], x[\"r_eng_challenger_prediction\"])).plot(label=\"Random TRF (eng)\")\n",
    "pd.concat([test, out_of_time]).groupby(time_column).apply(lambda x: roc_auc_score(x[target], x[\"r_eng_few_challenger_prediction\"])).plot(label=\"TRF + RF\")\n",
    "\n",
    "# pd.concat([test, out_of_time]).groupby(time_column).apply(lambda x: roc_auc_score(x[target], x[\"challenger_prediction\"])).plot(label=\"Time Robust Forest\",\n",
    "#                                                                                                                         color=\"green\", linestyle=\"dashed\")\n",
    "# pd.concat([test, out_of_time]).groupby(time_column).apply(lambda x: roc_auc_score(x[target], x[\"benchmark_prediction\"])).plot(label=\"Random Forest\", \n",
    "#                                                                                                                        linestyle=\"-.\")\n",
    "# pd.concat([test, out_of_time]).groupby(time_column).apply(lambda x: roc_auc_score(x[target], x[\"prediction_lgbm\"])).plot(label=\"LGBM\", color=\"orange\")\n",
    "\n",
    "ax.xaxis.set_tick_params(labelsize=12)\n",
    "ax.yaxis.set_tick_params(labelsize=12)\n",
    "\n",
    "xmin, xmax, ymin, ymax = plt.axis()\n",
    "plt.ylim([ymin, ymax])\n",
    "plt.vlines(4, ymin, ymax, linestyle=\"dotted\", color=\"red\", label=\"Holdout start\")\n",
    "#plt.legend(bbox_to_anchor=(1.05, 1.0))\n",
    "plt.legend(fontsize=15, bbox_to_anchor=(1.0, 1.0))\n",
    "\n",
    "#plt.legend(bbox_to_anchor=(1.05, 1.0))\n",
    "#plt.title(\"AUC by year for TimeTree and DecisionTree on the GE Club News dataset\")\n",
    "\n",
    "plt.ylabel(\"AUC\", fontsize=15)\n",
    "plt.xlabel(\"Year\", fontsize=15)\n",
    "#plt.savefig(\"images/ge_sklearn.eps\", format=\"eps\", bbox_inches=\"tight\")\n",
    "plt.savefig(\"genews_performance_overtime_all.eps\", format=\"eps\")\n",
    "plt.show()"
   ]
  },
  {
   "cell_type": "code",
   "execution_count": 94,
   "metadata": {
    "ExecuteTime": {
     "end_time": "2022-06-22T12:16:34.171338Z",
     "start_time": "2022-06-22T12:16:33.353939Z"
    }
   },
   "outputs": [
    {
     "data": {
      "image/png": "[encoded data removed]",
      "text/plain": [
       "<Figure size 432x288 with 1 Axes>"
      ]
     },
     "metadata": {
      "needs_background": "light"
     },
     "output_type": "display_data"
    }
   ],
   "source": [
    "pd.concat([test, out_of_time]).groupby(\"year-month\").apply(lambda x: roc_auc_score(x[target], x[\"benchmark_prediction\"])).plot(label=\"Random Forest\")\n",
    "pd.concat([test, out_of_time]).groupby(\"year-month\").apply(lambda x: roc_auc_score(x[target], x[\"challenger_prediction\"])).plot(label=\"Time Robust Forest\")\n",
    "pd.concat([test, out_of_time]).groupby(\"year-month\").apply(lambda x: roc_auc_score(x[target], x[\"r_few_challenger_prediction\"])).plot(label=\"Random TRF (few)\")\n",
    "pd.concat([test, out_of_time]).groupby(\"year-month\").apply(lambda x: roc_auc_score(x[target], x[\"r_many_challenger_prediction\"])).plot(label=\"Random TRF (many)\")\n",
    "pd.concat([test, out_of_time]).groupby(\"year-month\").apply(lambda x: roc_auc_score(x[target], x[\"r_eng_challenger_prediction\"])).plot(label=\"Random TRF (eng)\")\n",
    "\n",
    "# pd.concat([test, out_of_time]).groupby(time_column).apply(lambda x: roc_auc_score(x[target], x[\"prediction_lgbm\"])).plot(label=\"LGBM\")\n",
    "\n",
    "xmin, xmax, ymin, ymax = plt.axis()\n",
    "#plt.vlines(3, ymin, ymax, linestyle=\"dotted\", color=\"red\", label=\"Out of time split\")\n",
    "\n",
    "plt.legend(bbox_to_anchor=(1.00, 1.0))\n",
    "plt.title(\"AUC by year for Time Robust Forest and Random Forest on the GE Club News dataset\")\n",
    "plt.ylabel(\"AUC\")\n",
    "plt.xlabel(\"Year\")\n",
    "plt.show()"
   ]
  },
  {
   "cell_type": "code",
   "execution_count": 90,
   "metadata": {
    "ExecuteTime": {
     "end_time": "2022-06-22T12:16:34.952112Z",
     "start_time": "2022-06-22T12:16:34.173361Z"
    }
   },
   "outputs": [
    {
     "data": {
      "image/png": "[encoded data removed]",
      "text/plain": [
       "<Figure size 432x288 with 1 Axes>"
      ]
     },
     "metadata": {
      "needs_background": "light"
     },
     "output_type": "display_data"
    }
   ],
   "source": [
    "pd.concat([test, out_of_time]).groupby(\"year-month\").apply(lambda x: roc_auc_score(x[target], x[\"benchmark_prediction\"])).rolling(6).mean().plot(label=\"Random Forest\")\n",
    "pd.concat([test, out_of_time]).groupby(\"year-month\").apply(lambda x: roc_auc_score(x[target], x[\"challenger_prediction\"])).rolling(6).mean().plot(label=\"Time Robust Forest\")\n",
    "pd.concat([test, out_of_time]).groupby(\"year-month\").apply(lambda x: roc_auc_score(x[target], x[\"r_few_challenger_prediction\"])).rolling(6).mean().plot(label=\"Random TRF (few)\")\n",
    "pd.concat([test, out_of_time]).groupby(\"year-month\").apply(lambda x: roc_auc_score(x[target], x[\"r_many_challenger_prediction\"])).rolling(6).mean().plot(label=\"Random TRF (many)\")\n",
    "pd.concat([test, out_of_time]).groupby(\"year-month\").apply(lambda x: roc_auc_score(x[target], x[\"r_eng_challenger_prediction\"])).rolling(6).mean().plot(label=\"Random TRF (eng)\")\n",
    "# pd.concat([test, out_of_time]).groupby(time_column).apply(lambda x: roc_auc_score(x[target], x[\"prediction_lgbm\"])).plot(label=\"LGBM\")\n",
    "\n",
    "xmin, xmax, ymin, ymax = plt.axis()\n",
    "plt.vlines(35, ymin, ymax, linestyle=\"dotted\", color=\"red\", label=\"Out of time split\")\n",
    "\n",
    "plt.legend(bbox_to_anchor=(1.00, 1.0))\n",
    "plt.title(\"AUC by year for Time Robust Forest and Random Forest on the GE Club News dataset\")\n",
    "plt.ylabel(\"AUC\")\n",
    "plt.xlabel(\"Year\")\n",
    "plt.show()"
   ]
  },
  {
   "cell_type": "code",
   "execution_count": 91,
   "metadata": {
    "ExecuteTime": {
     "end_time": "2022-06-22T12:16:35.277716Z",
     "start_time": "2022-06-22T12:16:34.954037Z"
    }
   },
   "outputs": [
    {
     "data": {
      "image/png": "[encoded data removed]",
      "text/plain": [
       "<Figure size 432x288 with 1 Axes>"
      ]
     },
     "metadata": {
      "needs_background": "light"
     },
     "output_type": "display_data"
    }
   ],
   "source": [
    "pd.concat([test, out_of_time]).groupby(time_column).apply(lambda x: roc_auc_score(x[target], x[\"benchmark_prediction\"])).plot(label=\"Random Forest\")\n",
    "pd.concat([test, out_of_time]).groupby(time_column).apply(lambda x: roc_auc_score(x[target], x[\"challenger_prediction\"])).plot(label=\"Time Robust Forest\")\n",
    "pd.concat([test, out_of_time]).groupby(time_column).apply(lambda x: roc_auc_score(x[target], x[\"prediction\"])).plot(label=\"Sklearn\")\n",
    "\n",
    "xmin, xmax, ymin, ymax = plt.axis()\n",
    "plt.vlines(4, ymin, ymax, linestyle=\"dotted\", color=\"red\", label=\"Out of time split\")\n",
    "plt.legend(bbox_to_anchor=(1.05, 1.0))\n",
    "\n",
    "plt.legend(fontsize=15, bbox_to_anchor=(1.0, 1.0))\n",
    "\n",
    "#plt.legend(bbox_to_anchor=(1.05, 1.0))\n",
    "#plt.title(\"AUC by year for TimeTree and DecisionTree on the GE Club News dataset\")\n",
    "\n",
    "plt.ylabel(\"AUC\", fontsize=15)\n",
    "plt.xlabel(\"Year\", fontsize=15)\n",
    "#plt.title(\"AUC by year for Time Robust Forest and Random Forest on the GE Club News dataset\")\n",
    "plt.ylabel(\"AUC\")\n",
    "plt.xlabel(\"Year\")\n",
    "plt.show()"
   ]
  },
  {
   "cell_type": "markdown",
   "metadata": {},
   "source": [
    "## Simplified benchmark\n",
    "\n",
    "Use similar paramters to what the challenger picked in the optimization."
   ]
  },
  {
   "cell_type": "code",
   "execution_count": null,
   "metadata": {
    "ExecuteTime": {
     "end_time": "2022-06-22T12:18:25.835629Z",
     "start_time": "2022-06-22T12:16:35.279538Z"
    }
   },
   "outputs": [],
   "source": [
    "params_simple_benchmark = challenger_opt_param.copy()\n",
    "params_simple_benchmark.pop(\"min_sample_periods\")\n",
    "\n",
    "params_simple_benchmark[\"min_sample_periods\"] = train[time_column].nunique() * challenger_opt_param[\"min_sample_periods\"]\n",
    "\n",
    "simple_benchmark_model = TimeForestClassifier(time_column=dummy_time_column,\n",
    "                                       multi=True, \n",
    "                                       **params_simple_benchmark)\n",
    "\n",
    "simple_benchmark_model.fit(train_vectors[features + [dummy_time_column]], train[target])"
   ]
  },
  {
   "cell_type": "code",
   "execution_count": null,
   "metadata": {
    "ExecuteTime": {
     "end_time": "2022-06-22T12:18:25.842904Z",
     "start_time": "2022-06-22T12:18:25.839171Z"
    }
   },
   "outputs": [],
   "source": [
    "params_simple_benchmark"
   ]
  },
  {
   "cell_type": "code",
   "execution_count": null,
   "metadata": {
    "ExecuteTime": {
     "end_time": "2022-06-22T12:18:49.884495Z",
     "start_time": "2022-06-22T12:18:25.844978Z"
    }
   },
   "outputs": [],
   "source": [
    "train[\"benchmark_simple_prediction\"] = simple_benchmark_model.predict_proba(train_vectors[features])[:, 1]\n",
    "test[\"benchmark_simple_prediction\"] = simple_benchmark_model.predict_proba(test_vectors[features])[:, 1]\n",
    "out_of_time[\"benchmark_simple_prediction\"] = simple_benchmark_model.predict_proba(oot_vectors[features])[:, 1]"
   ]
  },
  {
   "cell_type": "code",
   "execution_count": 89,
   "metadata": {
    "ExecuteTime": {
     "end_time": "2022-06-22T12:18:49.916495Z",
     "start_time": "2022-06-22T12:18:49.888425Z"
    }
   },
   "outputs": [
    {
     "name": "stdout",
     "output_type": "stream",
     "text": [
      "0.9109751234359086\n",
      "0.8922274573438961\n",
      "0.8059232890444981\n"
     ]
    }
   ],
   "source": [
    "print(roc_auc_score(train[target], train[\"benchmark_simple_prediction\"]))\n",
    "print(roc_auc_score(test[target], test[\"benchmark_simple_prediction\"]))\n",
    "print(roc_auc_score(out_of_time[target], out_of_time[\"benchmark_simple_prediction\"]))"
   ]
  },
  {
   "cell_type": "markdown",
   "metadata": {},
   "source": [
    "### Even simpler, trying to match the train performance from challengers"
   ]
  },
  {
   "cell_type": "code",
   "execution_count": null,
   "metadata": {},
   "outputs": [],
   "source": [
    "params_simple_benchmark = challenger_opt_param.copy()\n",
    "params_simple_benchmark.pop(\"min_sample_periods\")\n",
    "params_simple_benchmark.pop(\"max_depth\")\n",
    "\n",
    "params_simple_benchmark[\"min_sample_periods\"] = 80 * challenger_opt_param[\"min_sample_periods\"]\n",
    "params_simple_benchmark[\"max_depth\"] = 3\n",
    "\n",
    "simple_benchmark_model = TimeForestClassifier(time_column=dummy_time_column,\n",
    "                                       multi=True, \n",
    "                                       **params_simple_benchmark)\n",
    "\n",
    "simple_benchmark_model.fit(train_vectors[features + [dummy_time_column]], train[target])"
   ]
  },
  {
   "cell_type": "code",
   "execution_count": null,
   "metadata": {},
   "outputs": [],
   "source": [
    "train[\"benchmark_super_simple_prediction\"] = simple_benchmark_model.predict_proba(train_vectors[features])[:, 1]\n",
    "test[\"benchmark_super_simple_prediction\"] = simple_benchmark_model.predict_proba(test_vectors[features])[:, 1]\n",
    "out_of_time[\"benchmark_super_simple_prediction\"] = simple_benchmark_model.predict_proba(oot_vectors[features])[:, 1]"
   ]
  },
  {
   "cell_type": "code",
   "execution_count": 88,
   "metadata": {},
   "outputs": [
    {
     "name": "stdout",
     "output_type": "stream",
     "text": [
      "0.8616185749596906\n",
      "0.861410776941608\n",
      "0.7766456346052646\n"
     ]
    }
   ],
   "source": [
    "print(roc_auc_score(train[target], train[\"benchmark_super_simple_prediction\"]))\n",
    "print(roc_auc_score(test[target], test[\"benchmark_super_simple_prediction\"]))\n",
    "print(roc_auc_score(out_of_time[target], out_of_time[\"benchmark_super_simple_prediction\"]))"
   ]
  },
  {
   "cell_type": "code",
   "execution_count": 87,
   "metadata": {
    "ExecuteTime": {
     "end_time": "2022-06-22T12:18:50.265350Z",
     "start_time": "2022-06-22T12:18:49.918918Z"
    }
   },
   "outputs": [
    {
     "data": {
      "image/png": "[encoded data removed]",
      "text/plain": [
       "<Figure size 432x288 with 1 Axes>"
      ]
     },
     "metadata": {
      "needs_background": "light"
     },
     "output_type": "display_data"
    }
   ],
   "source": [
    "pd.concat([test, out_of_time]).groupby(time_column).apply(lambda x: roc_auc_score(x[target], x[\"benchmark_prediction\"])).plot(label=\"Random Forest\")\n",
    "pd.concat([test, out_of_time]).groupby(time_column).apply(lambda x: roc_auc_score(x[target], x[\"challenger_prediction\"])).plot(label=\"Time Robust Forest\")\n",
    "pd.concat([test, out_of_time]).groupby(time_column).apply(lambda x: roc_auc_score(x[target], x[\"benchmark_simple_prediction\"])).plot(label=\"RF Same min examples\")\n",
    "pd.concat([test, out_of_time]).groupby(time_column).apply(lambda x: roc_auc_score(x[target], x[\"benchmark_super_simple_prediction\"])).plot(label=\"RF Similar training error\")\n",
    "pd.concat([test, out_of_time]).groupby(time_column).apply(lambda x: roc_auc_score(x[target], x[\"r_eng_challenger_prediction\"])).plot(label=\"Random TRF (eng)\")\n",
    "\n",
    "xmin, xmax, ymin, ymax = plt.axis()\n",
    "plt.vlines(4, ymin, ymax, linestyle=\"dotted\", color=\"red\", label=\"Out of time split\")\n",
    "\n",
    "plt.legend(fontsize=15, bbox_to_anchor=(1.0, 1.0))\n",
    "\n",
    "#plt.legend(bbox_to_anchor=(1.05, 1.0))\n",
    "#plt.title(\"AUC by year for TimeTree and DecisionTree on the GE Club News dataset\")\n",
    "\n",
    "plt.ylabel(\"AUC\", fontsize=15)\n",
    "plt.xlabel(\"Year\", fontsize=15)\n",
    "#plt.title(\"AUC by year for TimeTree and DecisionTree on the GE Club News dataset\")\n",
    "plt.show()"
   ]
  },
  {
   "cell_type": "markdown",
   "metadata": {},
   "source": [
    "## Plots"
   ]
  },
  {
   "cell_type": "code",
   "execution_count": 102,
   "metadata": {
    "ExecuteTime": {
     "end_time": "2022-06-22T12:18:50.489395Z",
     "start_time": "2022-06-22T12:18:50.268266Z"
    }
   },
   "outputs": [
    {
     "data": {
      "image/png": "[encoded data removed]",
      "text/plain": [
       "<Figure size 432x288 with 1 Axes>"
      ]
     },
     "metadata": {
      "needs_background": "light"
     },
     "output_type": "display_data"
    }
   ],
   "source": [
    "out_of_time.groupby(time_column).apply(lambda x: roc_auc_score(x[target], x[\"challenger_prediction\"])).plot(label=\"Time Robust Forest\")\n",
    "out_of_time.groupby(time_column).apply(lambda x: roc_auc_score(x[target], x[\"benchmark_prediction\"])).plot(label=\"Random Forest\")\n",
    "\n",
    "plt.legend()\n",
    "plt.title(\"AUC by year for TimeTree and DecisionTree on the GE Club News dataset\")\n",
    "plt.ylabel(\"AUC\")\n",
    "plt.xlabel(\"Year\")\n",
    "plt.show()"
   ]
  },
  {
   "cell_type": "code",
   "execution_count": 103,
   "metadata": {
    "ExecuteTime": {
     "end_time": "2022-06-22T12:18:50.769774Z",
     "start_time": "2022-06-22T12:18:50.503350Z"
    }
   },
   "outputs": [
    {
     "data": {
      "image/png": "[encoded data removed]",
      "text/plain": [
       "<Figure size 432x288 with 1 Axes>"
      ]
     },
     "metadata": {
      "needs_background": "light"
     },
     "output_type": "display_data"
    }
   ],
   "source": [
    "pd.concat([test, out_of_time]).groupby(time_column).apply(lambda x: roc_auc_score(x[target], x[\"benchmark_prediction\"])).plot(label=\"Random Forest\")\n",
    "pd.concat([test, out_of_time]).groupby(time_column).apply(lambda x: roc_auc_score(x[target], x[\"challenger_prediction\"])).plot(label=\"Time Robust Forest\")\n",
    "\n",
    "xmin, xmax, ymin, ymax = plt.axis()\n",
    "plt.vlines(4, ymin, ymax, linestyle=\"dotted\", color=\"red\", label=\"Out of time split\")\n",
    "\n",
    "plt.legend(bbox_to_anchor=(1.00, 1.0))\n",
    "plt.title(\"AUC by year for TimeTree and DecisionTree on the GE Club News dataset\")\n",
    "plt.ylabel(\"AUC\")\n",
    "plt.xlabel(\"Year\")\n",
    "plt.show()"
   ]
  },
  {
   "cell_type": "code",
   "execution_count": 104,
   "metadata": {
    "ExecuteTime": {
     "end_time": "2022-06-22T12:18:51.221659Z",
     "start_time": "2022-06-22T12:18:50.772268Z"
    }
   },
   "outputs": [
    {
     "data": {
      "image/png": "[encoded data removed]",
      "text/plain": [
       "<Figure size 432x288 with 1 Axes>"
      ]
     },
     "metadata": {
      "needs_background": "light"
     },
     "output_type": "display_data"
    }
   ],
   "source": [
    "fig, ax = plt.subplots()\n",
    "\n",
    "pd.concat([test, out_of_time]).groupby(time_column).apply(lambda x: roc_auc_score(x[target], x[\"challenger_prediction\"])).plot(label=\"Time Robust Forest\",\n",
    "                                                                                                                        color=\"green\", linestyle=\"dashed\")\n",
    "pd.concat([test, out_of_time]).groupby(time_column).apply(lambda x: roc_auc_score(x[target], x[\"benchmark_prediction\"])).plot(label=\"Random Forest\", \n",
    "                                                                                                                       linestyle=\"-.\")\n",
    "# pd.concat([test, out_of_time]).groupby(time_column).apply(lambda x: roc_auc_score(x[target], x[\"prediction_lgbm\"])).plot(label=\"LGBM\", color=\"orange\")\n",
    "\n",
    "ax.xaxis.set_tick_params(labelsize=12)\n",
    "ax.yaxis.set_tick_params(labelsize=12)\n",
    "\n",
    "xmin, xmax, ymin, ymax = plt.axis()\n",
    "plt.ylim([ymin, ymax])\n",
    "plt.vlines(4, ymin, ymax, linestyle=\"dotted\", color=\"red\", label=\"Holdout start\")\n",
    "#plt.legend(bbox_to_anchor=(1.05, 1.0))\n",
    "plt.legend(fontsize=15, bbox_to_anchor=(1.0, 1.0))\n",
    "\n",
    "#plt.legend(bbox_to_anchor=(1.05, 1.0))\n",
    "#plt.title(\"AUC by year for TimeTree and DecisionTree on the GE Club News dataset\")\n",
    "\n",
    "plt.ylabel(\"AUC\", fontsize=15)\n",
    "plt.xlabel(\"Year\", fontsize=15)\n",
    "#plt.savefig(\"images/ge_sklearn.eps\", format=\"eps\", bbox_inches=\"tight\")\n",
    "plt.savefig(\"genews_performance_overtime.eps\", format=\"eps\")\n",
    "plt.show()"
   ]
  },
  {
   "cell_type": "code",
   "execution_count": null,
   "metadata": {},
   "outputs": [],
   "source": []
  },
  {
   "cell_type": "code",
   "execution_count": null,
   "metadata": {},
   "outputs": [],
   "source": []
  },
  {
   "cell_type": "code",
   "execution_count": null,
   "metadata": {},
   "outputs": [],
   "source": []
  },
  {
   "cell_type": "code",
   "execution_count": null,
   "metadata": {},
   "outputs": [],
   "source": []
  },
  {
   "cell_type": "code",
   "execution_count": null,
   "metadata": {},
   "outputs": [],
   "source": []
  }
 ],
 "metadata": {
  "hide_input": false,
  "kernelspec": {
   "display_name": "Python [conda env:.conda-research]",
   "language": "python",
   "name": "conda-env-.conda-research-py"
  },
  "language_info": {
   "codemirror_mode": {
    "name": "ipython",
    "version": 3
   },
   "file_extension": ".py",
   "mimetype": "text/x-python",
   "name": "python",
   "nbconvert_exporter": "python",
   "pygments_lexer": "ipython3",
   "version": "3.9.13"
  },
  "toc": {
   "base_numbering": 1,
   "nav_menu": {},
   "number_sections": true,
   "sideBar": true,
   "skip_h1_title": true,
   "title_cell": "Index",
   "title_sidebar": "Contents",
   "toc_cell": true,
   "toc_position": {},
   "toc_section_display": true,
   "toc_window_display": true
  }
 },
 "nbformat": 4,
 "nbformat_minor": 4
}
